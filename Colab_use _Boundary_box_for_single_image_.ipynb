{
 "cells": [
  {
   "cell_type": "code",
   "execution_count": null,
   "metadata": {
    "colab": {},
    "colab_type": "code",
    "id": "D9mofV5ca2WR"
   },
   "outputs": [],
   "source": [
    "import os\n",
    "import sys\n",
    "import time\n",
    "import json\n",
    "import numpy as np\n",
    "import pandas as pd\n",
    "import matplotlib.pyplot as plt\n",
    "\n",
    "import warnings\n",
    "warnings.filterwarnings('ignore')"
   ]
  },
  {
   "cell_type": "markdown",
   "metadata": {
    "colab_type": "text",
    "id": "ylHUNILaRc_j"
   },
   "source": [
    "cuda version 9 needed to be installed. with tf-gpu 1.9, keras 2.2"
   ]
  },
  {
   "cell_type": "code",
   "execution_count": null,
   "metadata": {
    "colab": {
     "base_uri": "https://localhost:8080/",
     "height": 35
    },
    "colab_type": "code",
    "id": "Ubbq0BPVa7pD",
    "outputId": "2036fdb6-1011-4962-e208-041eac24edfe"
   },
   "outputs": [
    {
     "name": "stdout",
     "output_type": "stream",
     "text": [
      "Drive already mounted at /content/drive; to attempt to forcibly remount, call drive.mount(\"/content/drive\", force_remount=True).\n"
     ]
    }
   ],
   "source": [
    "from google.colab import drive\n",
    "drive.mount('/content/drive')\n"
   ]
  },
  {
   "cell_type": "markdown",
   "metadata": {
    "colab_type": "text",
    "id": "5Z7lRmcBXo7_"
   },
   "source": [
    "Installing custom Keras Retinanet module"
   ]
  },
  {
   "cell_type": "code",
   "execution_count": null,
   "metadata": {
    "colab": {
     "base_uri": "https://localhost:8080/",
     "height": 35
    },
    "colab_type": "code",
    "id": "yvQNZ8BL4rxz",
    "outputId": "2d8c00f8-f2b5-4e5c-afe0-e42d34b6e1d8"
   },
   "outputs": [
    {
     "name": "stdout",
     "output_type": "stream",
     "text": [
      "/content/drive/My Drive/Pneumonia/rsna-pneumonia/keras-retinanet\n"
     ]
    }
   ],
   "source": [
    " %cd \"/content/drive/My Drive/Pneumonia/rsna-pneumonia/keras-retinanet\"   "
   ]
  },
  {
   "cell_type": "code",
   "execution_count": null,
   "metadata": {
    "colab": {
     "base_uri": "https://localhost:8080/",
     "height": 36
    },
    "colab_type": "code",
    "id": "_uErc2rO4zON",
    "outputId": "3cf97851-0ab5-40e8-8a61-b1a3c295d838"
   },
   "outputs": [
    {
     "data": {
      "application/vnd.google.colaboratory.intrinsic": {
       "type": "string"
      },
      "text/plain": [
       "'/content/drive/My Drive/Pneumonia/rsna-pneumonia/keras-retinanet'"
      ]
     },
     "execution_count": 18,
     "metadata": {
      "tags": []
     },
     "output_type": "execute_result"
    }
   ],
   "source": [
    "pwd #check current path"
   ]
  },
  {
   "cell_type": "code",
   "execution_count": null,
   "metadata": {
    "colab": {
     "base_uri": "https://localhost:8080/",
     "height": 72
    },
    "colab_type": "code",
    "id": "5PenS0P041JJ",
    "outputId": "83c0ddea-6f80-46c1-a58c-8810ab1aa00a"
   },
   "outputs": [
    {
     "name": "stdout",
     "output_type": "stream",
     "text": [
      "running build_ext\n",
      "skipping 'keras_retinanet/utils/compute_overlap.c' Cython extension (up-to-date)\n",
      "copying build/lib.linux-x86_64-3.6/keras_retinanet/utils/compute_overlap.cpython-36m-x86_64-linux-gnu.so -> keras_retinanet/utils\n"
     ]
    }
   ],
   "source": [
    "!python setup.py build_ext --inplace  #installing keras retinanet"
   ]
  },
  {
   "cell_type": "code",
   "execution_count": null,
   "metadata": {
    "colab": {},
    "colab_type": "code",
    "id": "MEl2gb09dAvp"
   },
   "outputs": [],
   "source": [
    "  #https://drive.google.com/drive/folders/1_ymWr9trBlpkRtKphL6EOxWIn7nNURHl?usp=sharing "
   ]
  },
  {
   "cell_type": "markdown",
   "metadata": {
    "colab_type": "text",
    "id": "BdITy6V9X1_T"
   },
   "source": [
    "Installing packages of specific versions"
   ]
  },
  {
   "cell_type": "code",
   "execution_count": null,
   "metadata": {
    "colab": {
     "base_uri": "https://localhost:8080/",
     "height": 182
    },
    "colab_type": "code",
    "id": "VD4NNh077GxI",
    "outputId": "5dc3ea21-1bea-4bbc-8fb5-87ca86a0a6b5"
   },
   "outputs": [
    {
     "name": "stdout",
     "output_type": "stream",
     "text": [
      "Collecting Cython==0.28.5\n",
      "\u001b[?25l  Downloading https://files.pythonhosted.org/packages/19/8e/32b280abb0947a96cdbb8329fb2014851a21fc1d099009f946ea8a8202c3/Cython-0.28.5-cp36-cp36m-manylinux1_x86_64.whl (3.4MB)\n",
      "\u001b[K     |████████████████████████████████| 3.4MB 2.7MB/s \n",
      "\u001b[?25hInstalling collected packages: Cython\n",
      "  Found existing installation: Cython 0.29.20\n",
      "    Uninstalling Cython-0.29.20:\n",
      "      Successfully uninstalled Cython-0.29.20\n",
      "Successfully installed Cython-0.28.5\n"
     ]
    }
   ],
   "source": [
    "pip install Cython==0.28.5\n"
   ]
  },
  {
   "cell_type": "code",
   "execution_count": null,
   "metadata": {
    "colab": {
     "base_uri": "https://localhost:8080/",
     "height": 128
    },
    "colab_type": "code",
    "id": "Uy0oRiTi8cT0",
    "outputId": "fdc38c76-0000-4ebb-bca3-f03189e47b12"
   },
   "outputs": [
    {
     "name": "stdout",
     "output_type": "stream",
     "text": [
      "Collecting pydicom==1.1.0\n",
      "\u001b[?25l  Downloading https://files.pythonhosted.org/packages/56/e1/7185572caa15620decf8d7f9492f7406ac221f878cc82e922fc36a0e5aac/pydicom-1.1.0-1-py2.py3-none-any.whl (6.7MB)\n",
      "\u001b[K     |████████████████████████████████| 6.7MB 2.8MB/s \n",
      "\u001b[?25hInstalling collected packages: pydicom\n",
      "Successfully installed pydicom-1.1.0\n"
     ]
    }
   ],
   "source": [
    "pip install pydicom==1.1.0"
   ]
  },
  {
   "cell_type": "code",
   "execution_count": null,
   "metadata": {
    "colab": {
     "base_uri": "https://localhost:8080/",
     "height": 509
    },
    "colab_type": "code",
    "id": "ThalKVVw8iQV",
    "outputId": "f42bc480-b110-467d-d53c-c0312c2c0bf6"
   },
   "outputs": [
    {
     "name": "stdout",
     "output_type": "stream",
     "text": [
      "Collecting Keras==2.2.2\n",
      "\u001b[?25l  Downloading https://files.pythonhosted.org/packages/34/7d/b1dedde8af99bd82f20ed7e9697aac0597de3049b1f786aa2aac3b9bd4da/Keras-2.2.2-py2.py3-none-any.whl (299kB)\n",
      "\r",
      "\u001b[K     |█                               | 10kB 13.9MB/s eta 0:00:01\r",
      "\u001b[K     |██▏                             | 20kB 1.6MB/s eta 0:00:01\r",
      "\u001b[K     |███▎                            | 30kB 1.8MB/s eta 0:00:01\r",
      "\u001b[K     |████▍                           | 40kB 2.1MB/s eta 0:00:01\r",
      "\u001b[K     |█████▌                          | 51kB 1.9MB/s eta 0:00:01\r",
      "\u001b[K     |██████▋                         | 61kB 2.1MB/s eta 0:00:01\r",
      "\u001b[K     |███████▋                        | 71kB 2.3MB/s eta 0:00:01\r",
      "\u001b[K     |████████▊                       | 81kB 2.5MB/s eta 0:00:01\r",
      "\u001b[K     |█████████▉                      | 92kB 2.4MB/s eta 0:00:01\r",
      "\u001b[K     |███████████                     | 102kB 2.5MB/s eta 0:00:01\r",
      "\u001b[K     |████████████                    | 112kB 2.5MB/s eta 0:00:01\r",
      "\u001b[K     |█████████████▏                  | 122kB 2.5MB/s eta 0:00:01\r",
      "\u001b[K     |██████████████▎                 | 133kB 2.5MB/s eta 0:00:01\r",
      "\u001b[K     |███████████████▎                | 143kB 2.5MB/s eta 0:00:01\r",
      "\u001b[K     |████████████████▍               | 153kB 2.5MB/s eta 0:00:01\r",
      "\u001b[K     |█████████████████▌              | 163kB 2.5MB/s eta 0:00:01\r",
      "\u001b[K     |██████████████████▋             | 174kB 2.5MB/s eta 0:00:01\r",
      "\u001b[K     |███████████████████▊            | 184kB 2.5MB/s eta 0:00:01\r",
      "\u001b[K     |████████████████████▉           | 194kB 2.5MB/s eta 0:00:01\r",
      "\u001b[K     |██████████████████████          | 204kB 2.5MB/s eta 0:00:01\r",
      "\u001b[K     |███████████████████████         | 215kB 2.5MB/s eta 0:00:01\r",
      "\u001b[K     |████████████████████████        | 225kB 2.5MB/s eta 0:00:01\r",
      "\u001b[K     |█████████████████████████▏      | 235kB 2.5MB/s eta 0:00:01\r",
      "\u001b[K     |██████████████████████████▎     | 245kB 2.5MB/s eta 0:00:01\r",
      "\u001b[K     |███████████████████████████▍    | 256kB 2.5MB/s eta 0:00:01\r",
      "\u001b[K     |████████████████████████████▌   | 266kB 2.5MB/s eta 0:00:01\r",
      "\u001b[K     |█████████████████████████████▋  | 276kB 2.5MB/s eta 0:00:01\r",
      "\u001b[K     |██████████████████████████████▋ | 286kB 2.5MB/s eta 0:00:01\r",
      "\u001b[K     |███████████████████████████████▊| 296kB 2.5MB/s eta 0:00:01\r",
      "\u001b[K     |████████████████████████████████| 307kB 2.5MB/s \n",
      "\u001b[?25hRequirement already satisfied: six>=1.9.0 in /usr/local/lib/python3.6/dist-packages (from Keras==2.2.2) (1.12.0)\n",
      "Requirement already satisfied: scipy>=0.14 in /usr/local/lib/python3.6/dist-packages (from Keras==2.2.2) (1.4.1)\n",
      "Collecting keras-preprocessing==1.0.2\n",
      "  Downloading https://files.pythonhosted.org/packages/71/26/1e778ebd737032749824d5cba7dbd3b0cf9234b87ab5ec79f5f0403ca7e9/Keras_Preprocessing-1.0.2-py2.py3-none-any.whl\n",
      "Requirement already satisfied: pyyaml in /usr/local/lib/python3.6/dist-packages (from Keras==2.2.2) (3.13)\n",
      "Requirement already satisfied: h5py in /usr/local/lib/python3.6/dist-packages (from Keras==2.2.2) (2.10.0)\n",
      "Requirement already satisfied: numpy>=1.9.1 in /usr/local/lib/python3.6/dist-packages (from Keras==2.2.2) (1.18.5)\n",
      "Collecting keras-applications==1.0.4\n",
      "\u001b[?25l  Downloading https://files.pythonhosted.org/packages/54/90/8f327deaa37a71caddb59b7b4aaa9d4b3e90c0e76f8c2d1572005278ddc5/Keras_Applications-1.0.4-py2.py3-none-any.whl (43kB)\n",
      "\u001b[K     |████████████████████████████████| 51kB 3.5MB/s \n",
      "\u001b[31mERROR: tensorflow 2.2.0 has requirement keras-preprocessing>=1.1.0, but you'll have keras-preprocessing 1.0.2 which is incompatible.\u001b[0m\n",
      "\u001b[31mERROR: tensorflow 2.2.0 has requirement tensorboard<2.3.0,>=2.2.0, but you'll have tensorboard 1.9.0 which is incompatible.\u001b[0m\n",
      "\u001b[?25hInstalling collected packages: keras-preprocessing, keras-applications, Keras\n",
      "  Found existing installation: Keras-Preprocessing 1.1.2\n",
      "    Uninstalling Keras-Preprocessing-1.1.2:\n",
      "      Successfully uninstalled Keras-Preprocessing-1.1.2\n",
      "  Found existing installation: Keras-Applications 1.0.8\n",
      "    Uninstalling Keras-Applications-1.0.8:\n",
      "      Successfully uninstalled Keras-Applications-1.0.8\n",
      "  Found existing installation: Keras 2.3.1\n",
      "    Uninstalling Keras-2.3.1:\n",
      "      Successfully uninstalled Keras-2.3.1\n",
      "Successfully installed Keras-2.2.2 keras-applications-1.0.4 keras-preprocessing-1.0.2\n"
     ]
    }
   ],
   "source": [
    "pip install Keras==2.2.2\n"
   ]
  },
  {
   "cell_type": "code",
   "execution_count": null,
   "metadata": {
    "colab": {
     "base_uri": "https://localhost:8080/",
     "height": 182
    },
    "colab_type": "code",
    "id": "WWAJqi1l8l3x",
    "outputId": "34e0300d-7b9a-4680-d030-cd215df7657d"
   },
   "outputs": [
    {
     "name": "stdout",
     "output_type": "stream",
     "text": [
      "Requirement already satisfied: Keras-Applications==1.0.4 in /usr/local/lib/python3.6/dist-packages (1.0.4)\n",
      "Requirement already satisfied: numpy>=1.9.1 in /usr/local/lib/python3.6/dist-packages (from Keras-Applications==1.0.4) (1.18.5)\n",
      "Requirement already satisfied: keras>=2.1.6 in /usr/local/lib/python3.6/dist-packages (from Keras-Applications==1.0.4) (2.2.2)\n",
      "Requirement already satisfied: h5py in /usr/local/lib/python3.6/dist-packages (from Keras-Applications==1.0.4) (2.10.0)\n",
      "Requirement already satisfied: keras-preprocessing==1.0.2 in /usr/local/lib/python3.6/dist-packages (from keras>=2.1.6->Keras-Applications==1.0.4) (1.0.2)\n",
      "Requirement already satisfied: scipy>=0.14 in /usr/local/lib/python3.6/dist-packages (from keras>=2.1.6->Keras-Applications==1.0.4) (1.4.1)\n",
      "Requirement already satisfied: pyyaml in /usr/local/lib/python3.6/dist-packages (from keras>=2.1.6->Keras-Applications==1.0.4) (3.13)\n",
      "Requirement already satisfied: six>=1.9.0 in /usr/local/lib/python3.6/dist-packages (from keras>=2.1.6->Keras-Applications==1.0.4) (1.12.0)\n"
     ]
    }
   ],
   "source": [
    "pip install Keras-Applications==1.0.4\n"
   ]
  },
  {
   "cell_type": "code",
   "execution_count": null,
   "metadata": {
    "colab": {
     "base_uri": "https://localhost:8080/",
     "height": 182
    },
    "colab_type": "code",
    "id": "Z-f01ZBN8nrn",
    "outputId": "463ad92d-30b6-4de4-94f2-48605b6e4d7b"
   },
   "outputs": [
    {
     "name": "stdout",
     "output_type": "stream",
     "text": [
      "Requirement already satisfied: Keras-Preprocessing==1.0.2 in /usr/local/lib/python3.6/dist-packages (1.0.2)\n",
      "Requirement already satisfied: keras>=2.1.6 in /usr/local/lib/python3.6/dist-packages (from Keras-Preprocessing==1.0.2) (2.2.2)\n",
      "Requirement already satisfied: scipy>=0.14 in /usr/local/lib/python3.6/dist-packages (from Keras-Preprocessing==1.0.2) (1.4.1)\n",
      "Requirement already satisfied: numpy>=1.9.1 in /usr/local/lib/python3.6/dist-packages (from Keras-Preprocessing==1.0.2) (1.18.5)\n",
      "Requirement already satisfied: six>=1.9.0 in /usr/local/lib/python3.6/dist-packages (from Keras-Preprocessing==1.0.2) (1.12.0)\n",
      "Requirement already satisfied: keras-applications==1.0.4 in /usr/local/lib/python3.6/dist-packages (from keras>=2.1.6->Keras-Preprocessing==1.0.2) (1.0.4)\n",
      "Requirement already satisfied: pyyaml in /usr/local/lib/python3.6/dist-packages (from keras>=2.1.6->Keras-Preprocessing==1.0.2) (3.13)\n",
      "Requirement already satisfied: h5py in /usr/local/lib/python3.6/dist-packages (from keras>=2.1.6->Keras-Preprocessing==1.0.2) (2.10.0)\n"
     ]
    }
   ],
   "source": [
    "pip install Keras-Preprocessing==1.0.2\n"
   ]
  },
  {
   "cell_type": "code",
   "execution_count": null,
   "metadata": {
    "colab": {
     "base_uri": "https://localhost:8080/",
     "height": 346
    },
    "colab_type": "code",
    "id": "29fYgGfU8uuU",
    "outputId": "b04313ff-ec4f-4187-90d7-830b478e6ed6"
   },
   "outputs": [
    {
     "name": "stdout",
     "output_type": "stream",
     "text": [
      "Collecting keras-resnet==0.1.0\n",
      "  Downloading https://files.pythonhosted.org/packages/05/46/ad0b2d1a05d9497bd80c98a2c3f4d8be38a4601ace69af72814f5fafd851/keras-resnet-0.1.0.tar.gz\n",
      "Requirement already satisfied: keras in /usr/local/lib/python3.6/dist-packages (from keras-resnet==0.1.0) (2.2.2)\n",
      "Requirement already satisfied: six>=1.9.0 in /usr/local/lib/python3.6/dist-packages (from keras->keras-resnet==0.1.0) (1.12.0)\n",
      "Requirement already satisfied: pyyaml in /usr/local/lib/python3.6/dist-packages (from keras->keras-resnet==0.1.0) (3.13)\n",
      "Requirement already satisfied: keras-preprocessing==1.0.2 in /usr/local/lib/python3.6/dist-packages (from keras->keras-resnet==0.1.0) (1.0.2)\n",
      "Requirement already satisfied: keras-applications==1.0.4 in /usr/local/lib/python3.6/dist-packages (from keras->keras-resnet==0.1.0) (1.0.4)\n",
      "Requirement already satisfied: scipy>=0.14 in /usr/local/lib/python3.6/dist-packages (from keras->keras-resnet==0.1.0) (1.4.1)\n",
      "Requirement already satisfied: h5py in /usr/local/lib/python3.6/dist-packages (from keras->keras-resnet==0.1.0) (2.10.0)\n",
      "Requirement already satisfied: numpy>=1.9.1 in /usr/local/lib/python3.6/dist-packages (from keras->keras-resnet==0.1.0) (1.18.5)\n",
      "Building wheels for collected packages: keras-resnet\n",
      "  Building wheel for keras-resnet (setup.py) ... \u001b[?25l\u001b[?25hdone\n",
      "  Created wheel for keras-resnet: filename=keras_resnet-0.1.0-py2.py3-none-any.whl size=13346 sha256=de776861da08e1b4b256a97bd1aa6aa79a5b36a1b19c7ac458cf4e10fa1cfec1\n",
      "  Stored in directory: /root/.cache/pip/wheels/80/dd/ac/842235b63dddac12faa4b48ebe58b8944e8c2e57c2e38dddb6\n",
      "Successfully built keras-resnet\n",
      "Installing collected packages: keras-resnet\n",
      "Successfully installed keras-resnet-0.1.0\n"
     ]
    }
   ],
   "source": [
    "pip install keras-resnet==0.1.0\n"
   ]
  },
  {
   "cell_type": "code",
   "execution_count": null,
   "metadata": {
    "colab": {
     "base_uri": "https://localhost:8080/",
     "height": 744
    },
    "colab_type": "code",
    "id": "lv7B9cS18zyq",
    "outputId": "9392d42e-6176-463f-87ed-1ca2c288fd11"
   },
   "outputs": [
    {
     "name": "stdout",
     "output_type": "stream",
     "text": [
      "Collecting tensorflow-gpu==1.9.0\n",
      "\u001b[?25l  Downloading https://files.pythonhosted.org/packages/b7/0b/615ecfabf09d1ef516a59740f202e857163245cb4a7db43c30c7eebe91a8/tensorflow_gpu-1.9.0-cp36-cp36m-manylinux1_x86_64.whl (229.6MB)\n",
      "\u001b[K     |████████████████████████████████| 229.6MB 59kB/s \n",
      "\u001b[?25hRequirement already satisfied: gast>=0.2.0 in /usr/local/lib/python3.6/dist-packages (from tensorflow-gpu==1.9.0) (0.3.3)\n",
      "Requirement already satisfied: numpy>=1.13.3 in /usr/local/lib/python3.6/dist-packages (from tensorflow-gpu==1.9.0) (1.18.5)\n",
      "Requirement already satisfied: astor>=0.6.0 in /usr/local/lib/python3.6/dist-packages (from tensorflow-gpu==1.9.0) (0.8.1)\n",
      "Requirement already satisfied: termcolor>=1.1.0 in /usr/local/lib/python3.6/dist-packages (from tensorflow-gpu==1.9.0) (1.1.0)\n",
      "Requirement already satisfied: protobuf>=3.4.0 in /usr/local/lib/python3.6/dist-packages (from tensorflow-gpu==1.9.0) (3.10.0)\n",
      "Requirement already satisfied: wheel>=0.26 in /usr/local/lib/python3.6/dist-packages (from tensorflow-gpu==1.9.0) (0.34.2)\n",
      "Requirement already satisfied: six>=1.10.0 in /usr/local/lib/python3.6/dist-packages (from tensorflow-gpu==1.9.0) (1.12.0)\n",
      "Requirement already satisfied: grpcio>=1.8.6 in /usr/local/lib/python3.6/dist-packages (from tensorflow-gpu==1.9.0) (1.30.0)\n",
      "Requirement already satisfied: absl-py>=0.1.6 in /usr/local/lib/python3.6/dist-packages (from tensorflow-gpu==1.9.0) (0.9.0)\n",
      "Collecting tensorboard<1.10.0,>=1.9.0\n",
      "\u001b[?25l  Downloading https://files.pythonhosted.org/packages/9e/1f/3da43860db614e294a034e42d4be5c8f7f0d2c75dc1c428c541116d8cdab/tensorboard-1.9.0-py3-none-any.whl (3.3MB)\n",
      "\u001b[K     |████████████████████████████████| 3.3MB 13.3MB/s \n",
      "\u001b[?25hCollecting setuptools<=39.1.0\n",
      "\u001b[?25l  Downloading https://files.pythonhosted.org/packages/8c/10/79282747f9169f21c053c562a0baa21815a8c7879be97abd930dbcf862e8/setuptools-39.1.0-py2.py3-none-any.whl (566kB)\n",
      "\u001b[K     |████████████████████████████████| 573kB 37.1MB/s \n",
      "\u001b[?25hRequirement already satisfied: werkzeug>=0.11.10 in /usr/local/lib/python3.6/dist-packages (from tensorboard<1.10.0,>=1.9.0->tensorflow-gpu==1.9.0) (1.0.1)\n",
      "Requirement already satisfied: markdown>=2.6.8 in /usr/local/lib/python3.6/dist-packages (from tensorboard<1.10.0,>=1.9.0->tensorflow-gpu==1.9.0) (3.2.2)\n",
      "Requirement already satisfied: importlib-metadata; python_version < \"3.8\" in /usr/local/lib/python3.6/dist-packages (from markdown>=2.6.8->tensorboard<1.10.0,>=1.9.0->tensorflow-gpu==1.9.0) (1.6.1)\n",
      "Requirement already satisfied: zipp>=0.5 in /usr/local/lib/python3.6/dist-packages (from importlib-metadata; python_version < \"3.8\"->markdown>=2.6.8->tensorboard<1.10.0,>=1.9.0->tensorflow-gpu==1.9.0) (3.1.0)\n",
      "\u001b[31mERROR: xarray 0.15.1 has requirement setuptools>=41.2, but you'll have setuptools 39.1.0 which is incompatible.\u001b[0m\n",
      "\u001b[31mERROR: tensorflow 2.2.0 has requirement tensorboard<2.3.0,>=2.2.0, but you'll have tensorboard 1.9.0 which is incompatible.\u001b[0m\n",
      "\u001b[31mERROR: google-auth 1.17.2 has requirement setuptools>=40.3.0, but you'll have setuptools 39.1.0 which is incompatible.\u001b[0m\n",
      "\u001b[31mERROR: datascience 0.10.6 has requirement folium==0.2.1, but you'll have folium 0.8.3 which is incompatible.\u001b[0m\n",
      "Installing collected packages: tensorboard, setuptools, tensorflow-gpu\n",
      "  Found existing installation: tensorboard 2.2.2\n",
      "    Uninstalling tensorboard-2.2.2:\n",
      "      Successfully uninstalled tensorboard-2.2.2\n",
      "  Found existing installation: setuptools 47.3.1\n",
      "    Uninstalling setuptools-47.3.1:\n",
      "      Successfully uninstalled setuptools-47.3.1\n",
      "Successfully installed setuptools-39.1.0 tensorboard-1.9.0 tensorflow-gpu-1.9.0\n"
     ]
    },
    {
     "data": {
      "application/vnd.colab-display-data+json": {
       "pip_warning": {
        "packages": [
         "pkg_resources"
        ]
       }
      }
     },
     "metadata": {
      "tags": []
     },
     "output_type": "display_data"
    }
   ],
   "source": [
    "pip install tensorflow-gpu==1.9.0 # you will have to restart runtime after installing"
   ]
  },
  {
   "cell_type": "code",
   "execution_count": null,
   "metadata": {
    "colab": {
     "base_uri": "https://localhost:8080/",
     "height": 219
    },
    "colab_type": "code",
    "id": "OS3xspel9lpH",
    "outputId": "bfa687b4-aae4-475b-ade9-f3fde3e99d14"
   },
   "outputs": [
    {
     "name": "stdout",
     "output_type": "stream",
     "text": [
      "Collecting opencv-python==3.4.3.18\n",
      "\u001b[?25l  Downloading https://files.pythonhosted.org/packages/18/7f/c836c44ab30074a8486e30f8ea6adc8e6ac02332851ab6cc069e2ac35b84/opencv_python-3.4.3.18-cp36-cp36m-manylinux1_x86_64.whl (25.0MB)\n",
      "\u001b[K     |████████████████████████████████| 25.0MB 1.5MB/s \n",
      "\u001b[?25hRequirement already satisfied: numpy>=1.11.3 in /usr/local/lib/python3.6/dist-packages (from opencv-python==3.4.3.18) (1.18.5)\n",
      "\u001b[31mERROR: albumentations 0.1.12 has requirement imgaug<0.2.7,>=0.2.5, but you'll have imgaug 0.2.9 which is incompatible.\u001b[0m\n",
      "Installing collected packages: opencv-python\n",
      "  Found existing installation: opencv-python 4.1.2.30\n",
      "    Uninstalling opencv-python-4.1.2.30:\n",
      "      Successfully uninstalled opencv-python-4.1.2.30\n",
      "Successfully installed opencv-python-3.4.3.18\n"
     ]
    }
   ],
   "source": [
    "#pip install opencv-python==3.4.3.18"
   ]
  },
  {
   "cell_type": "code",
   "execution_count": null,
   "metadata": {
    "colab": {
     "base_uri": "https://localhost:8080/",
     "height": 273
    },
    "colab_type": "code",
    "id": "ZPH4w-Ld7jCb",
    "outputId": "40ddfeb8-cce5-4aab-ac03-a6ceb4f99b67"
   },
   "outputs": [
    {
     "name": "stdout",
     "output_type": "stream",
     "text": [
      "Collecting h5py==2.8.0\n",
      "\u001b[?25l  Downloading https://files.pythonhosted.org/packages/8e/cb/726134109e7bd71d98d1fcc717ffe051767aac42ede0e7326fd1787e5d64/h5py-2.8.0-cp36-cp36m-manylinux1_x86_64.whl (2.8MB)\n",
      "\u001b[K     |████████████████████████████████| 2.8MB 2.6MB/s \n",
      "\u001b[?25hRequirement already satisfied: six in /usr/local/lib/python3.6/dist-packages (from h5py==2.8.0) (1.12.0)\n",
      "Requirement already satisfied: numpy>=1.7 in /usr/local/lib/python3.6/dist-packages (from h5py==2.8.0) (1.18.5)\n",
      "\u001b[31mERROR: tensorflow 2.2.0 has requirement h5py<2.11.0,>=2.10.0, but you'll have h5py 2.8.0 which is incompatible.\u001b[0m\n",
      "\u001b[31mERROR: tensorflow 2.2.0 has requirement keras-preprocessing>=1.1.0, but you'll have keras-preprocessing 1.0.2 which is incompatible.\u001b[0m\n",
      "\u001b[31mERROR: tensorflow 2.2.0 has requirement tensorboard<2.3.0,>=2.2.0, but you'll have tensorboard 1.9.0 which is incompatible.\u001b[0m\n",
      "Installing collected packages: h5py\n",
      "  Found existing installation: h5py 2.10.0\n",
      "    Uninstalling h5py-2.10.0:\n",
      "      Successfully uninstalled h5py-2.10.0\n",
      "Successfully installed h5py-2.8.0\n"
     ]
    }
   ],
   "source": [
    "pip install h5py==2.8.0\n"
   ]
  },
  {
   "cell_type": "code",
   "execution_count": null,
   "metadata": {
    "colab": {
     "base_uri": "https://localhost:8080/",
     "height": 90
    },
    "colab_type": "code",
    "id": "n4pJtt-J_yPL",
    "outputId": "3a9784c0-a4e3-4ca1-af14-70a19f7c1668"
   },
   "outputs": [
    {
     "name": "stdout",
     "output_type": "stream",
     "text": [
      "nvcc: NVIDIA (R) Cuda compiler driver\n",
      "Copyright (c) 2005-2019 NVIDIA Corporation\n",
      "Built on Sun_Jul_28_19:07:16_PDT_2019\n",
      "Cuda compilation tools, release 10.1, V10.1.243\n"
     ]
    }
   ],
   "source": [
    "#Cuda version\n",
    "!nvcc --version"
   ]
  },
  {
   "cell_type": "code",
   "execution_count": null,
   "metadata": {
    "colab": {},
    "colab_type": "code",
    "id": "j1X5MGyaAfwB"
   },
   "outputs": [],
   "source": []
  },
  {
   "cell_type": "code",
   "execution_count": null,
   "metadata": {
    "colab": {},
    "colab_type": "code",
    "id": "OUnPIAvXGH6A"
   },
   "outputs": [],
   "source": [
    "#from keras_retinanet.utils.keras_version import check_keras_version"
   ]
  },
  {
   "cell_type": "code",
   "execution_count": null,
   "metadata": {
    "colab": {
     "base_uri": "https://localhost:8080/",
     "height": 73
    },
    "colab_type": "code",
    "id": "8fjB5TBeN06D",
    "outputId": "06ea37b2-8ae9-40a0-8347-ab871d6d27b3"
   },
   "outputs": [
    {
     "name": "stdout",
     "output_type": "stream",
     "text": [
      "hi  libcudnn7                              7.6.5.32-1+cuda10.1                               amd64        cuDNN runtime libraries\n",
      "ii  libcudnn7-dev                          7.6.5.32-1+cuda10.1                               amd64        cuDNN development libraries and headers\n"
     ]
    }
   ],
   "source": [
    "#check cudnn version\n",
    "! dpkg -l | grep -i cudnn"
   ]
  },
  {
   "cell_type": "code",
   "execution_count": null,
   "metadata": {
    "colab": {
     "base_uri": "https://localhost:8080/",
     "height": 1000
    },
    "colab_type": "code",
    "id": "qSe8TDNKJXSZ",
    "outputId": "25f19287-a250-4c3a-e051-23b30532f3c6"
   },
   "outputs": [
    {
     "name": "stdout",
     "output_type": "stream",
     "text": [
      "--2020-07-11 21:10:14--  https://developer.nvidia.com/compute/cuda/9.0/Prod/local_installers/cuda-repo-ubuntu1604-9-0-local_9.0.176-1_amd64-deb\n",
      "Resolving developer.nvidia.com (developer.nvidia.com)... 152.199.0.24\n",
      "Connecting to developer.nvidia.com (developer.nvidia.com)|152.199.0.24|:443... connected.\n",
      "HTTP request sent, awaiting response... 302 Found\n",
      "Location: https://developer.download.nvidia.com/compute/cuda/9.0/secure/Prod/local_installers/cuda-repo-ubuntu1604-9-0-local_9.0.176-1_amd64.deb?YVNyfpgvtcxtxcfr2HcZvFuet4Fhii-ZAvpaYFN7vqNNAfGKbwxJOMUzMKvvjpJpIu8KxRv0Bhl3BjsCLyqME6N2nq-W4HrZDIw5n-8cgwzithX7T-knrQ03-KajatVyW3gx-a_nAhBtQqeKXGSQLoBsLvmPLL4EZeKgXKRwvfjjpuq5brbpIrwBNUpM_avHglnfgzY2-NCTD17Yh1U4 [following]\n",
      "--2020-07-11 21:10:15--  https://developer.download.nvidia.com/compute/cuda/9.0/secure/Prod/local_installers/cuda-repo-ubuntu1604-9-0-local_9.0.176-1_amd64.deb?YVNyfpgvtcxtxcfr2HcZvFuet4Fhii-ZAvpaYFN7vqNNAfGKbwxJOMUzMKvvjpJpIu8KxRv0Bhl3BjsCLyqME6N2nq-W4HrZDIw5n-8cgwzithX7T-knrQ03-KajatVyW3gx-a_nAhBtQqeKXGSQLoBsLvmPLL4EZeKgXKRwvfjjpuq5brbpIrwBNUpM_avHglnfgzY2-NCTD17Yh1U4\n",
      "Resolving developer.download.nvidia.com (developer.download.nvidia.com)... 152.195.19.142\n",
      "Connecting to developer.download.nvidia.com (developer.download.nvidia.com)|152.195.19.142|:443... connected.\n",
      "HTTP request sent, awaiting response... 200 OK\n",
      "Length: 1212738714 (1.1G) [application/x-deb]\n",
      "Saving to: ‘cuda-repo-ubuntu1604-9-0-local_9.0.176-1_amd64-deb’\n",
      "\n",
      "cuda-repo-ubuntu160 100%[===================>]   1.13G   200MB/s    in 5.9s    \n",
      "\n",
      "2020-07-11 21:10:21 (197 MB/s) - ‘cuda-repo-ubuntu1604-9-0-local_9.0.176-1_amd64-deb’ saved [1212738714/1212738714]\n",
      "\n",
      "Selecting previously unselected package cuda-repo-ubuntu1604-9-0-local.\n",
      "(Reading database ... 144379 files and directories currently installed.)\n",
      "Preparing to unpack cuda-repo-ubuntu1604-9-0-local_9.0.176-1_amd64-deb ...\n",
      "Unpacking cuda-repo-ubuntu1604-9-0-local (9.0.176-1) ...\n",
      "Setting up cuda-repo-ubuntu1604-9-0-local (9.0.176-1) ...\n",
      "OK\n",
      "Get:1 file:/var/cuda-repo-9-0-local  InRelease\n",
      "Ign:1 file:/var/cuda-repo-9-0-local  InRelease\n",
      "Get:2 file:/var/cuda-repo-9-0-local  Release [574 B]\n",
      "Get:2 file:/var/cuda-repo-9-0-local  Release [574 B]\n",
      "Get:3 file:/var/cuda-repo-9-0-local  Release.gpg [819 B]\n",
      "Get:3 file:/var/cuda-repo-9-0-local  Release.gpg [819 B]\n",
      "Ign:4 https://developer.download.nvidia.com/compute/cuda/repos/ubuntu1804/x86_64  InRelease\n",
      "Hit:5 http://ppa.launchpad.net/graphics-drivers/ppa/ubuntu bionic InRelease\n",
      "Get:6 http://security.ubuntu.com/ubuntu bionic-security InRelease [88.7 kB]\n",
      "Get:7 https://cloud.r-project.org/bin/linux/ubuntu bionic-cran35/ InRelease [3,626 B]\n",
      "Hit:8 http://archive.ubuntu.com/ubuntu bionic InRelease\n",
      "Ign:9 https://developer.download.nvidia.com/compute/machine-learning/repos/ubuntu1804/x86_64  InRelease\n",
      "Get:10 https://developer.download.nvidia.com/compute/cuda/repos/ubuntu1804/x86_64  Release [697 B]\n",
      "Get:11 https://developer.download.nvidia.com/compute/machine-learning/repos/ubuntu1804/x86_64  Release [564 B]\n",
      "Get:12 https://developer.download.nvidia.com/compute/cuda/repos/ubuntu1804/x86_64  Release.gpg [836 B]\n",
      "Get:13 https://developer.download.nvidia.com/compute/machine-learning/repos/ubuntu1804/x86_64  Release.gpg [833 B]\n",
      "Get:14 file:/var/cuda-repo-9-0-local  Packages [15.4 kB]\n",
      "Get:15 http://archive.ubuntu.com/ubuntu bionic-updates InRelease [88.7 kB]\n",
      "Get:16 http://ppa.launchpad.net/marutter/c2d4u3.5/ubuntu bionic InRelease [15.4 kB]\n",
      "Get:17 http://archive.ubuntu.com/ubuntu bionic-backports InRelease [74.6 kB]\n",
      "Get:18 https://cloud.r-project.org/bin/linux/ubuntu bionic-cran35/ Packages [94.1 kB]\n",
      "Ign:19 https://developer.download.nvidia.com/compute/cuda/repos/ubuntu1804/x86_64  Packages\n",
      "Get:19 https://developer.download.nvidia.com/compute/cuda/repos/ubuntu1804/x86_64  Packages [214 kB]\n",
      "Get:20 https://developer.download.nvidia.com/compute/machine-learning/repos/ubuntu1804/x86_64  Packages [41.2 kB]\n",
      "Get:21 http://ppa.launchpad.net/marutter/c2d4u3.5/ubuntu bionic/main Sources [1,846 kB]\n",
      "Get:22 http://security.ubuntu.com/ubuntu bionic-security/multiverse amd64 Packages [9,282 B]\n",
      "Get:23 http://security.ubuntu.com/ubuntu bionic-security/universe amd64 Packages [869 kB]\n",
      "Get:24 http://archive.ubuntu.com/ubuntu bionic-updates/universe amd64 Packages [1,405 kB]\n",
      "Get:25 http://security.ubuntu.com/ubuntu bionic-security/restricted amd64 Packages [89.0 kB]\n",
      "Get:26 http://security.ubuntu.com/ubuntu bionic-security/main amd64 Packages [1,003 kB]\n",
      "Get:27 http://archive.ubuntu.com/ubuntu bionic-updates/restricted amd64 Packages [103 kB]\n",
      "Get:28 http://archive.ubuntu.com/ubuntu bionic-updates/multiverse amd64 Packages [13.6 kB]\n",
      "Get:29 http://archive.ubuntu.com/ubuntu bionic-updates/main amd64 Packages [1,303 kB]\n",
      "Get:30 http://ppa.launchpad.net/marutter/c2d4u3.5/ubuntu bionic/main amd64 Packages [891 kB]\n",
      "Fetched 8,155 kB in 3s (2,349 kB/s)\n",
      "Reading package lists... Done\n",
      "Reading package lists... Done\n",
      "Building dependency tree       \n",
      "Reading state information... Done\n",
      "The following package was automatically installed and is no longer required:\n",
      "  libnvidia-common-440\n",
      "Use 'apt autoremove' to remove it.\n",
      "The following additional packages will be installed:\n",
      "  cuda-9-0 cuda-command-line-tools-9-0 cuda-core-9-0 cuda-cublas-9-0\n",
      "  cuda-cublas-dev-9-0 cuda-cudart-9-0 cuda-cudart-dev-9-0 cuda-cufft-9-0\n",
      "  cuda-cufft-dev-9-0 cuda-curand-9-0 cuda-curand-dev-9-0 cuda-cusolver-9-0\n",
      "  cuda-cusolver-dev-9-0 cuda-cusparse-9-0 cuda-cusparse-dev-9-0\n",
      "  cuda-demo-suite-9-0 cuda-documentation-9-0 cuda-driver-dev-9-0\n",
      "  cuda-libraries-9-0 cuda-libraries-dev-9-0 cuda-license-9-0\n",
      "  cuda-misc-headers-9-0 cuda-npp-9-0 cuda-npp-dev-9-0 cuda-nvgraph-9-0\n",
      "  cuda-nvgraph-dev-9-0 cuda-nvml-dev-9-0 cuda-nvrtc-9-0 cuda-nvrtc-dev-9-0\n",
      "  cuda-runtime-9-0 cuda-samples-9-0 cuda-toolkit-9-0 cuda-visual-tools-9-0\n",
      "The following NEW packages will be installed:\n",
      "  cuda cuda-9-0 cuda-command-line-tools-9-0 cuda-core-9-0 cuda-cublas-9-0\n",
      "  cuda-cublas-dev-9-0 cuda-cudart-9-0 cuda-cudart-dev-9-0 cuda-cufft-9-0\n",
      "  cuda-cufft-dev-9-0 cuda-curand-9-0 cuda-curand-dev-9-0 cuda-cusolver-9-0\n",
      "  cuda-cusolver-dev-9-0 cuda-cusparse-9-0 cuda-cusparse-dev-9-0\n",
      "  cuda-demo-suite-9-0 cuda-documentation-9-0 cuda-driver-dev-9-0\n",
      "  cuda-libraries-9-0 cuda-libraries-dev-9-0 cuda-license-9-0\n",
      "  cuda-misc-headers-9-0 cuda-npp-9-0 cuda-npp-dev-9-0 cuda-nvgraph-9-0\n",
      "  cuda-nvgraph-dev-9-0 cuda-nvml-dev-9-0 cuda-nvrtc-9-0 cuda-nvrtc-dev-9-0\n",
      "  cuda-runtime-9-0 cuda-samples-9-0 cuda-toolkit-9-0 cuda-visual-tools-9-0\n",
      "0 upgraded, 34 newly installed, 0 to remove and 81 not upgraded.\n",
      "Need to get 0 B/1,097 MB of archives.\n",
      "After this operation, 2,315 MB of additional disk space will be used.\n",
      "Get:1 file:/var/cuda-repo-9-0-local  cuda-license-9-0 9.0.176-1 [22.0 kB]\n",
      "Get:2 file:/var/cuda-repo-9-0-local  cuda-misc-headers-9-0 9.0.176-1 [684 kB]\n",
      "Get:3 file:/var/cuda-repo-9-0-local  cuda-core-9-0 9.0.176-1 [16.9 MB]\n",
      "Get:4 file:/var/cuda-repo-9-0-local  cuda-cudart-9-0 9.0.176-1 [106 kB]\n",
      "Get:5 file:/var/cuda-repo-9-0-local  cuda-driver-dev-9-0 9.0.176-1 [10.9 kB]\n",
      "Get:6 file:/var/cuda-repo-9-0-local  cuda-cudart-dev-9-0 9.0.176-1 [767 kB]\n",
      "Get:7 file:/var/cuda-repo-9-0-local  cuda-command-line-tools-9-0 9.0.176-1 [25.4 MB]\n",
      "Get:8 file:/var/cuda-repo-9-0-local  cuda-nvrtc-9-0 9.0.176-1 [6,348 kB]\n",
      "Get:9 file:/var/cuda-repo-9-0-local  cuda-nvrtc-dev-9-0 9.0.176-1 [9,334 B]\n",
      "Get:10 file:/var/cuda-repo-9-0-local  cuda-cusolver-9-0 9.0.176-1 [26.2 MB]\n",
      "Get:11 file:/var/cuda-repo-9-0-local  cuda-cusolver-dev-9-0 9.0.176-1 [5,317 kB]\n",
      "Get:12 file:/var/cuda-repo-9-0-local  cuda-cublas-9-0 9.0.176-1 [25.0 MB]\n",
      "Get:13 file:/var/cuda-repo-9-0-local  cuda-cublas-dev-9-0 9.0.176-1 [49.4 MB]\n",
      "Get:14 file:/var/cuda-repo-9-0-local  cuda-cufft-9-0 9.0.176-1 [84.1 MB]\n",
      "Get:15 file:/var/cuda-repo-9-0-local  cuda-cufft-dev-9-0 9.0.176-1 [73.7 MB]\n",
      "Get:16 file:/var/cuda-repo-9-0-local  cuda-curand-9-0 9.0.176-1 [38.8 MB]\n",
      "Get:17 file:/var/cuda-repo-9-0-local  cuda-curand-dev-9-0 9.0.176-1 [57.9 MB]\n",
      "Get:18 file:/var/cuda-repo-9-0-local  cuda-cusparse-9-0 9.0.176-1 [25.2 MB]\n",
      "Get:19 file:/var/cuda-repo-9-0-local  cuda-cusparse-dev-9-0 9.0.176-1 [25.3 MB]\n",
      "Get:20 file:/var/cuda-repo-9-0-local  cuda-npp-9-0 9.0.176-1 [46.6 MB]\n",
      "Get:21 file:/var/cuda-repo-9-0-local  cuda-npp-dev-9-0 9.0.176-1 [46.6 MB]\n",
      "Get:22 file:/var/cuda-repo-9-0-local  cuda-nvgraph-9-0 9.0.176-1 [6,081 kB]\n",
      "Get:23 file:/var/cuda-repo-9-0-local  cuda-nvgraph-dev-9-0 9.0.176-1 [5,658 kB]\n",
      "Get:24 file:/var/cuda-repo-9-0-local  cuda-samples-9-0 9.0.176-1 [75.9 MB]\n",
      "Get:25 file:/var/cuda-repo-9-0-local  cuda-documentation-9-0 9.0.176-1 [53.1 MB]\n",
      "Get:26 file:/var/cuda-repo-9-0-local  cuda-libraries-dev-9-0 9.0.176-1 [2,596 B]\n",
      "Get:27 file:/var/cuda-repo-9-0-local  cuda-nvml-dev-9-0 9.0.176-1 [47.6 kB]\n",
      "Get:28 file:/var/cuda-repo-9-0-local  cuda-visual-tools-9-0 9.0.176-1 [398 MB]\n",
      "Get:29 file:/var/cuda-repo-9-0-local  cuda-toolkit-9-0 9.0.176-1 [2,836 B]\n",
      "Get:30 file:/var/cuda-repo-9-0-local  cuda-libraries-9-0 9.0.176-1 [2,566 B]\n",
      "Get:31 file:/var/cuda-repo-9-0-local  cuda-runtime-9-0 9.0.176-1 [2,526 B]\n",
      "Get:32 file:/var/cuda-repo-9-0-local  cuda-demo-suite-9-0 9.0.176-1 [3,880 kB]\n",
      "Get:33 file:/var/cuda-repo-9-0-local  cuda-9-0 9.0.176-1 [2,552 B]\n",
      "Get:34 file:/var/cuda-repo-9-0-local  cuda 9.0.176-1 [2,504 B]\n",
      "Extracting templates from packages: 100%\n",
      "Selecting previously unselected package cuda-license-9-0.\n",
      "(Reading database ... 144438 files and directories currently installed.)\n",
      "Preparing to unpack .../00-cuda-license-9-0_9.0.176-1_amd64.deb ...\n",
      "Unpacking cuda-license-9-0 (9.0.176-1) ...\n",
      "Selecting previously unselected package cuda-misc-headers-9-0.\n",
      "Preparing to unpack .../01-cuda-misc-headers-9-0_9.0.176-1_amd64.deb ...\n",
      "Unpacking cuda-misc-headers-9-0 (9.0.176-1) ...\n",
      "Selecting previously unselected package cuda-core-9-0.\n",
      "Preparing to unpack .../02-cuda-core-9-0_9.0.176-1_amd64.deb ...\n",
      "Unpacking cuda-core-9-0 (9.0.176-1) ...\n",
      "Selecting previously unselected package cuda-cudart-9-0.\n",
      "Preparing to unpack .../03-cuda-cudart-9-0_9.0.176-1_amd64.deb ...\n",
      "Unpacking cuda-cudart-9-0 (9.0.176-1) ...\n",
      "Selecting previously unselected package cuda-driver-dev-9-0.\n",
      "Preparing to unpack .../04-cuda-driver-dev-9-0_9.0.176-1_amd64.deb ...\n",
      "Unpacking cuda-driver-dev-9-0 (9.0.176-1) ...\n",
      "Selecting previously unselected package cuda-cudart-dev-9-0.\n",
      "Preparing to unpack .../05-cuda-cudart-dev-9-0_9.0.176-1_amd64.deb ...\n",
      "Unpacking cuda-cudart-dev-9-0 (9.0.176-1) ...\n",
      "Selecting previously unselected package cuda-command-line-tools-9-0.\n",
      "Preparing to unpack .../06-cuda-command-line-tools-9-0_9.0.176-1_amd64.deb ...\n",
      "Unpacking cuda-command-line-tools-9-0 (9.0.176-1) ...\n",
      "Selecting previously unselected package cuda-nvrtc-9-0.\n",
      "Preparing to unpack .../07-cuda-nvrtc-9-0_9.0.176-1_amd64.deb ...\n",
      "Unpacking cuda-nvrtc-9-0 (9.0.176-1) ...\n",
      "Selecting previously unselected package cuda-nvrtc-dev-9-0.\n",
      "Preparing to unpack .../08-cuda-nvrtc-dev-9-0_9.0.176-1_amd64.deb ...\n",
      "Unpacking cuda-nvrtc-dev-9-0 (9.0.176-1) ...\n",
      "Selecting previously unselected package cuda-cusolver-9-0.\n",
      "Preparing to unpack .../09-cuda-cusolver-9-0_9.0.176-1_amd64.deb ...\n",
      "Unpacking cuda-cusolver-9-0 (9.0.176-1) ...\n",
      "Selecting previously unselected package cuda-cusolver-dev-9-0.\n",
      "Preparing to unpack .../10-cuda-cusolver-dev-9-0_9.0.176-1_amd64.deb ...\n",
      "Unpacking cuda-cusolver-dev-9-0 (9.0.176-1) ...\n",
      "Selecting previously unselected package cuda-cublas-9-0.\n",
      "Preparing to unpack .../11-cuda-cublas-9-0_9.0.176-1_amd64.deb ...\n",
      "Unpacking cuda-cublas-9-0 (9.0.176-1) ...\n",
      "Selecting previously unselected package cuda-cublas-dev-9-0.\n",
      "Preparing to unpack .../12-cuda-cublas-dev-9-0_9.0.176-1_amd64.deb ...\n",
      "Unpacking cuda-cublas-dev-9-0 (9.0.176-1) ...\n",
      "Selecting previously unselected package cuda-cufft-9-0.\n",
      "Preparing to unpack .../13-cuda-cufft-9-0_9.0.176-1_amd64.deb ...\n",
      "Unpacking cuda-cufft-9-0 (9.0.176-1) ...\n",
      "Selecting previously unselected package cuda-cufft-dev-9-0.\n",
      "Preparing to unpack .../14-cuda-cufft-dev-9-0_9.0.176-1_amd64.deb ...\n",
      "Unpacking cuda-cufft-dev-9-0 (9.0.176-1) ...\n",
      "Selecting previously unselected package cuda-curand-9-0.\n",
      "Preparing to unpack .../15-cuda-curand-9-0_9.0.176-1_amd64.deb ...\n",
      "Unpacking cuda-curand-9-0 (9.0.176-1) ...\n",
      "Selecting previously unselected package cuda-curand-dev-9-0.\n",
      "Preparing to unpack .../16-cuda-curand-dev-9-0_9.0.176-1_amd64.deb ...\n",
      "Unpacking cuda-curand-dev-9-0 (9.0.176-1) ...\n",
      "Selecting previously unselected package cuda-cusparse-9-0.\n",
      "Preparing to unpack .../17-cuda-cusparse-9-0_9.0.176-1_amd64.deb ...\n",
      "Unpacking cuda-cusparse-9-0 (9.0.176-1) ...\n",
      "Selecting previously unselected package cuda-cusparse-dev-9-0.\n",
      "Preparing to unpack .../18-cuda-cusparse-dev-9-0_9.0.176-1_amd64.deb ...\n",
      "Unpacking cuda-cusparse-dev-9-0 (9.0.176-1) ...\n",
      "Selecting previously unselected package cuda-npp-9-0.\n",
      "Preparing to unpack .../19-cuda-npp-9-0_9.0.176-1_amd64.deb ...\n",
      "Unpacking cuda-npp-9-0 (9.0.176-1) ...\n",
      "Selecting previously unselected package cuda-npp-dev-9-0.\n",
      "Preparing to unpack .../20-cuda-npp-dev-9-0_9.0.176-1_amd64.deb ...\n",
      "Unpacking cuda-npp-dev-9-0 (9.0.176-1) ...\n",
      "Selecting previously unselected package cuda-nvgraph-9-0.\n",
      "Preparing to unpack .../21-cuda-nvgraph-9-0_9.0.176-1_amd64.deb ...\n",
      "Unpacking cuda-nvgraph-9-0 (9.0.176-1) ...\n",
      "Selecting previously unselected package cuda-nvgraph-dev-9-0.\n",
      "Preparing to unpack .../22-cuda-nvgraph-dev-9-0_9.0.176-1_amd64.deb ...\n",
      "Unpacking cuda-nvgraph-dev-9-0 (9.0.176-1) ...\n",
      "Selecting previously unselected package cuda-samples-9-0.\n",
      "Preparing to unpack .../23-cuda-samples-9-0_9.0.176-1_amd64.deb ...\n",
      "Unpacking cuda-samples-9-0 (9.0.176-1) ...\n",
      "Selecting previously unselected package cuda-documentation-9-0.\n",
      "Preparing to unpack .../24-cuda-documentation-9-0_9.0.176-1_amd64.deb ...\n",
      "Unpacking cuda-documentation-9-0 (9.0.176-1) ...\n",
      "Selecting previously unselected package cuda-libraries-dev-9-0.\n",
      "Preparing to unpack .../25-cuda-libraries-dev-9-0_9.0.176-1_amd64.deb ...\n",
      "Unpacking cuda-libraries-dev-9-0 (9.0.176-1) ...\n",
      "Selecting previously unselected package cuda-nvml-dev-9-0.\n",
      "Preparing to unpack .../26-cuda-nvml-dev-9-0_9.0.176-1_amd64.deb ...\n",
      "Unpacking cuda-nvml-dev-9-0 (9.0.176-1) ...\n",
      "Selecting previously unselected package cuda-visual-tools-9-0.\n",
      "Preparing to unpack .../27-cuda-visual-tools-9-0_9.0.176-1_amd64.deb ...\n",
      "Unpacking cuda-visual-tools-9-0 (9.0.176-1) ...\n",
      "Selecting previously unselected package cuda-toolkit-9-0.\n",
      "Preparing to unpack .../28-cuda-toolkit-9-0_9.0.176-1_amd64.deb ...\n",
      "Unpacking cuda-toolkit-9-0 (9.0.176-1) ...\n",
      "Selecting previously unselected package cuda-libraries-9-0.\n",
      "Preparing to unpack .../29-cuda-libraries-9-0_9.0.176-1_amd64.deb ...\n",
      "Unpacking cuda-libraries-9-0 (9.0.176-1) ...\n",
      "Selecting previously unselected package cuda-runtime-9-0.\n",
      "Preparing to unpack .../30-cuda-runtime-9-0_9.0.176-1_amd64.deb ...\n",
      "Unpacking cuda-runtime-9-0 (9.0.176-1) ...\n",
      "Selecting previously unselected package cuda-demo-suite-9-0.\n",
      "Preparing to unpack .../31-cuda-demo-suite-9-0_9.0.176-1_amd64.deb ...\n",
      "Unpacking cuda-demo-suite-9-0 (9.0.176-1) ...\n",
      "Selecting previously unselected package cuda-9-0.\n",
      "Preparing to unpack .../32-cuda-9-0_9.0.176-1_amd64.deb ...\n",
      "Unpacking cuda-9-0 (9.0.176-1) ...\n",
      "Selecting previously unselected package cuda.\n",
      "Preparing to unpack .../33-cuda_9.0.176-1_amd64.deb ...\n",
      "Unpacking cuda (9.0.176-1) ...\n",
      "Setting up cuda-license-9-0 (9.0.176-1) ...\n",
      "*** LICENSE AGREEMENT ***\n",
      "By using this software you agree to fully comply with the terms and \n",
      "conditions of the EULA (End User License Agreement). The EULA is located\n",
      "at /usr/local/cuda-9.0/doc/EULA.txt. The EULA can also be found at\n",
      "http://docs.nvidia.com/cuda/eula/index.html. If you do not agree to the\n",
      "terms and conditions of the EULA, do not use the software.\n",
      "\n",
      "Setting up cuda-cusparse-9-0 (9.0.176-1) ...\n",
      "Setting up cuda-cudart-9-0 (9.0.176-1) ...\n",
      "Setting up cuda-nvrtc-9-0 (9.0.176-1) ...\n",
      "Setting up cuda-cusparse-dev-9-0 (9.0.176-1) ...\n",
      "Setting up cuda-cufft-9-0 (9.0.176-1) ...\n",
      "Setting up cuda-cusolver-9-0 (9.0.176-1) ...\n",
      "Setting up cuda-nvml-dev-9-0 (9.0.176-1) ...\n",
      "Setting up cuda-npp-9-0 (9.0.176-1) ...\n",
      "Setting up cuda-cusolver-dev-9-0 (9.0.176-1) ...\n",
      "Setting up cuda-misc-headers-9-0 (9.0.176-1) ...\n",
      "Setting up cuda-cublas-9-0 (9.0.176-1) ...\n",
      "Setting up cuda-nvrtc-dev-9-0 (9.0.176-1) ...\n",
      "Setting up cuda-driver-dev-9-0 (9.0.176-1) ...\n",
      "Setting up cuda-curand-9-0 (9.0.176-1) ...\n",
      "Setting up cuda-nvgraph-9-0 (9.0.176-1) ...\n",
      "Setting up cuda-core-9-0 (9.0.176-1) ...\n",
      "Setting up cuda-libraries-9-0 (9.0.176-1) ...\n",
      "Setting up cuda-runtime-9-0 (9.0.176-1) ...\n",
      "Setting up cuda-cudart-dev-9-0 (9.0.176-1) ...\n",
      "Setting up cuda-cufft-dev-9-0 (9.0.176-1) ...\n",
      "Setting up cuda-npp-dev-9-0 (9.0.176-1) ...\n",
      "Setting up cuda-curand-dev-9-0 (9.0.176-1) ...\n",
      "Setting up cuda-cublas-dev-9-0 (9.0.176-1) ...\n",
      "Setting up cuda-nvgraph-dev-9-0 (9.0.176-1) ...\n",
      "Setting up cuda-command-line-tools-9-0 (9.0.176-1) ...\n",
      "Setting up cuda-demo-suite-9-0 (9.0.176-1) ...\n",
      "Setting up cuda-visual-tools-9-0 (9.0.176-1) ...\n",
      "Setting up cuda-samples-9-0 (9.0.176-1) ...\n",
      "Setting up cuda-libraries-dev-9-0 (9.0.176-1) ...\n",
      "Setting up cuda-documentation-9-0 (9.0.176-1) ...\n",
      "Setting up cuda-toolkit-9-0 (9.0.176-1) ...\n",
      "Setting up cuda-9-0 (9.0.176-1) ...\n",
      "Setting up cuda (9.0.176-1) ...\n",
      "Processing triggers for libc-bin (2.27-3ubuntu1) ...\n",
      "/sbin/ldconfig.real: /usr/local/lib/python3.6/dist-packages/ideep4py/lib/libmkldnn.so.0 is not a symbolic link\n",
      "\n"
     ]
    }
   ],
   "source": [
    "#downgrade cuda to version 9 from 10\n",
    "!wget https://developer.nvidia.com/compute/cuda/9.0/Prod/local_installers/cuda-repo-ubuntu1604-9-0-local_9.0.176-1_amd64-deb\n",
    "!dpkg -i cuda-repo-ubuntu1604-9-0-local_9.0.176-1_amd64-deb\n",
    "!apt-key add /var/cuda-repo-9-0-local/7fa2af80.pub\n",
    "!apt-get update\n",
    "!apt-get install cuda=9.0.176-1"
   ]
  },
  {
   "cell_type": "code",
   "execution_count": null,
   "metadata": {
    "colab": {},
    "colab_type": "code",
    "id": "t0GpL12XGM1N"
   },
   "outputs": [],
   "source": [
    "#! sudo apt-cache policy libcudnn7"
   ]
  },
  {
   "cell_type": "code",
   "execution_count": null,
   "metadata": {
    "colab": {},
    "colab_type": "code",
    "id": "e0TYyixEa2Wc"
   },
   "outputs": [],
   "source": [
    "#import sys\n",
    "#sys.path.insert(1, '/content/drive/My Drive/Pneumonia/rsna-pneumonia/')\n",
    "\n",
    "#import util"
   ]
  },
  {
   "cell_type": "code",
   "execution_count": null,
   "metadata": {
    "colab": {},
    "colab_type": "code",
    "id": "huqxS2eEGK3Z"
   },
   "outputs": [],
   "source": []
  },
  {
   "cell_type": "code",
   "execution_count": null,
   "metadata": {
    "colab": {},
    "colab_type": "code",
    "id": "GjqQUUw8a2Wk"
   },
   "outputs": [],
   "source": [
    "from keras_retinanet import models"
   ]
  },
  {
   "cell_type": "code",
   "execution_count": null,
   "metadata": {
    "colab": {
     "base_uri": "https://localhost:8080/",
     "height": 35
    },
    "colab_type": "code",
    "id": "eaZxQ1knhvzI",
    "outputId": "ec1396a6-d36a-4f24-9027-75cef33b4510"
   },
   "outputs": [
    {
     "name": "stdout",
     "output_type": "stream",
     "text": [
      "/content\n"
     ]
    }
   ],
   "source": [
    "%cd \"/content\""
   ]
  },
  {
   "cell_type": "code",
   "execution_count": null,
   "metadata": {
    "colab": {
     "base_uri": "https://localhost:8080/",
     "height": 35
    },
    "colab_type": "code",
    "id": "MngCfwocXSxH",
    "outputId": "1a5fdc80-f0ae-496d-d788-924c329ddb45"
   },
   "outputs": [
    {
     "name": "stderr",
     "output_type": "stream",
     "text": [
      "Using TensorFlow backend.\n"
     ]
    }
   ],
   "source": [
    "\"\"\"Utility functions\"\"\"\n",
    "\n",
    "import os\n",
    "import sys\n",
    "import numpy as np\n",
    "import pydicom\n",
    "from PIL import Image\n",
    "import matplotlib.pyplot as plt\n",
    "import cv2\n",
    "sys.path.append(\"keras-retinanet\")\n",
    "from keras_retinanet.utils.image import read_image_bgr, preprocess_image, resize_image\n",
    "\n",
    "\n",
    "def dicom_to_jpg(in_file, out_file, out_size):\n",
    "    \"\"\" Convert dicom file to jpg with specified size \"\"\"\n",
    "    ds = pydicom.read_file(in_file)\n",
    "    size = (ds.Columns, ds.Rows)\n",
    "    mode = 'L'\n",
    "    im = Image.frombuffer(mode, size, ds.pixel_array,\n",
    "                          \"raw\", mode, 0, 1).convert(\"L\")\n",
    "    im = im.resize((out_size, out_size), resample=Image.BICUBIC)\n",
    "    im.save(out_file, quality=95)\n",
    "\n",
    "\n",
    "def iou(box1, box2):\n",
    "    \"\"\"\n",
    "    From Yicheng Chen's \"Mean Average Precision Metric\"\n",
    "    https://www.kaggle.com/chenyc15/mean-average-precision-metric\n",
    "\n",
    "    helper function to calculate IoU\n",
    "    \"\"\"\n",
    "    x11, y11, x12, y12 = box1\n",
    "    x21, y21, x22, y22 = box2\n",
    "    w1, h1 = x12-x11, y12-y11\n",
    "    w2, h2 = x22-x21, y22-y21\n",
    "\n",
    "    area1, area2 = w1 * h1, w2 * h2\n",
    "    xi1, yi1, xi2, yi2 = max([x11, x21]), max(\n",
    "        [y11, y21]), min([x12, x22]), min([y12, y22])\n",
    "\n",
    "    if xi2 <= xi1 or yi2 <= yi1:\n",
    "        return 0\n",
    "    else:\n",
    "        intersect = (xi2-xi1) * (yi2-yi1)\n",
    "        union = area1 + area2 - intersect\n",
    "        return intersect / union\n",
    "\n",
    "\n",
    "def map_iou(boxes_true, boxes_pred, scores, thresholds=[0.4, 0.45, 0.5, 0.55, 0.6, 0.65, 0.7, 0.75]):\n",
    "    \"\"\"\n",
    "    From Yicheng Chen's \"Mean Average Precision Metric\"\n",
    "    https://www.kaggle.com/chenyc15/mean-average-precision-metric\n",
    "\n",
    "    Mean average precision at differnet intersection over union (IoU) threshold\n",
    "\n",
    "    input:\n",
    "        boxes_true: Mx4 numpy array of ground true bounding boxes of one image. \n",
    "                    bbox format: (x1, y1, w, h)\n",
    "        boxes_pred: Nx4 numpy array of predicted bounding boxes of one image. \n",
    "                    bbox format: (x1, y1, w, h)\n",
    "        scores:     length N numpy array of scores associated with predicted bboxes\n",
    "        thresholds: IoU shresholds to evaluate mean average precision on\n",
    "    output: \n",
    "        map: mean average precision of the image\n",
    "    \"\"\"\n",
    "\n",
    "    # According to the introduction, images with no ground truth bboxes will not be\n",
    "    # included in the map score unless there is a false positive detection (?)\n",
    "\n",
    "    # return None if both are empty, don't count the image in final evaluation (?)\n",
    "    if len(boxes_true) == 0 and len(boxes_pred) == 0:\n",
    "        return None\n",
    "\n",
    "    assert boxes_true.shape[1] == 4 or boxes_pred.shape[1] == 4, \"boxes should be 2D arrays with shape[1]=4\"\n",
    "    if len(boxes_pred):\n",
    "        assert len(scores) == len(\n",
    "            boxes_pred), \"boxes_pred and scores should be same length\"\n",
    "        # sort boxes_pred by scores in decreasing order\n",
    "        boxes_pred = boxes_pred[np.argsort(scores)[::-1], :]\n",
    "\n",
    "    map_total = 0\n",
    "\n",
    "    # loop over thresholds\n",
    "    for t in thresholds:\n",
    "        matched_bt = set()\n",
    "        tp, fn = 0, 0\n",
    "        for i, bt in enumerate(boxes_true):\n",
    "            matched = False\n",
    "            for j, bp in enumerate(boxes_pred):\n",
    "                miou = iou(bt, bp)\n",
    "                if miou >= t and not matched and j not in matched_bt:\n",
    "                    matched = True\n",
    "                    tp += 1  # bt is matched for the first time, count as TP\n",
    "                    matched_bt.add(j)\n",
    "            if not matched:\n",
    "                fn += 1  # bt has no match, count as FN\n",
    "\n",
    "        # FP is the bp that not matched to any bt\n",
    "        fp = len(boxes_pred) - len(matched_bt)\n",
    "        m = tp / (tp + fn + fp)\n",
    "        map_total += m\n",
    "\n",
    "    return map_total / len(thresholds)\n",
    "\n",
    "\n",
    "def get_annotations(generator):\n",
    "    \"\"\" Return list of annotations from generator \"\"\"\n",
    "    annotations = []\n",
    "    for i in range(generator.size()):\n",
    "        # load the annotations\n",
    "        annotation = generator.load_annotations(i)[:, :4]\n",
    "        annotations.append(annotation)\n",
    "    return annotations\n",
    "\n",
    "\n",
    "def get_scores(model, image, scale):\n",
    "    \"\"\" Return calculated bounding boxes and scores for an image \"\"\"\n",
    "    # run network\n",
    "    boxes, scores, labels = model.predict_on_batch(\n",
    "        np.expand_dims(image, axis=0))\n",
    "\n",
    "    # correct boxes for image scale\n",
    "    boxes /= scale\n",
    "\n",
    "    image_scores = scores[0]\n",
    "    image_boxes = boxes[0]\n",
    "\n",
    "    return (image_boxes, image_scores)\n",
    "\n",
    "\n",
    "def get_view_from_dicom(dcmfile):\n",
    "    \"\"\" Return ViewPosition dicom field from .dcm file \"\"\"\n",
    "    ds = pydicom.read_file(dcmfile)\n",
    "    return ds.ViewPosition\n",
    "\n",
    "\n",
    "def get_views_from_generator(generator, dcmdir):\n",
    "    views = []\n",
    "    for i in range(generator.size()):\n",
    "        dcmfile = os.path.basename(generator.image_path(i))[:-4]+\".dcm\"\n",
    "        dcmfpath = os.path.join(dcmdir, dcmfile)\n",
    "        views.append(get_view_from_dicom(dcmfpath))\n",
    "    return views\n",
    "\n",
    "\n",
    "def get_detection_from_file(fpath, model, sz):\n",
    "    image = read_image_bgr(fpath)\n",
    "    image = preprocess_image(image)\n",
    "    image, scale = resize_image(image, min_side=sz)\n",
    "    return get_scores(model, image, scale)\n",
    "\n",
    "\n",
    "def get_detections_from_generator(generator, model):\n",
    "    detections = []\n",
    "\n",
    "    for i in range(generator.size()):\n",
    "        path = generator.image_path(i)\n",
    "        raw_image = generator.load_image(i)\n",
    "        image = generator.preprocess_image(raw_image.copy())\n",
    "        image, scale = generator.resize_image(image)\n",
    "        detections.append(get_scores(model, image, scale))\n",
    "    return detections\n",
    "\n",
    "\n",
    "def nms(boxes, scores, overlapThresh):\n",
    "    \"\"\"\n",
    "    adapted from non-maximum suppression by Adrian Rosebrock\n",
    "    https://www.pyimagesearch.com/2015/02/16/faster-non-maximum-suppression-python/\n",
    "    \"\"\"\n",
    "\n",
    "    # if there are no boxes, return an empty list\n",
    "    if len(boxes) == 0:\n",
    "        return np.array([]).reshape(0, 4), np.array([])\n",
    "    if boxes.dtype.kind == \"i\":\n",
    "        boxes = boxes.astype(\"float\")\n",
    "\n",
    "    pick = []\n",
    "    x1 = boxes[:, 0]\n",
    "    y1 = boxes[:, 1]\n",
    "    x2 = boxes[:, 2]\n",
    "    y2 = boxes[:, 3]\n",
    "\n",
    "    # compute the area of the bounding boxes\n",
    "    area = (x2 - x1 + 1) * (y2 - y1 + 1)\n",
    "\n",
    "    # sort the bounding boxes by scores in ascending order\n",
    "    idxs = np.argsort(scores)\n",
    "\n",
    "    # keep looping while indexes still remain in the indexes list\n",
    "    while len(idxs) > 0:\n",
    "        # grab the last index in the indexes list and add the\n",
    "        # index value to the list of picked indexes\n",
    "        last = len(idxs) - 1\n",
    "        i = idxs[last]\n",
    "        pick.append(i)\n",
    "\n",
    "        # find the largest (x, y) coordinates for the start of\n",
    "        # the bounding box and the smallest (x, y) coordinates\n",
    "        # for the end of the bounding box\n",
    "        xx1 = np.maximum(x1[i], x1[idxs[:last]])\n",
    "        yy1 = np.maximum(y1[i], y1[idxs[:last]])\n",
    "        xx2 = np.minimum(x2[i], x2[idxs[:last]])\n",
    "        yy2 = np.minimum(y2[i], y2[idxs[:last]])\n",
    "\n",
    "        # compute the width and height of the bounding box\n",
    "        w = np.maximum(0, xx2 - xx1 + 1)\n",
    "        h = np.maximum(0, yy2 - yy1 + 1)\n",
    "\n",
    "        # compute the ratio of overlap\n",
    "        overlap = (w * h) / area[idxs[:last]]\n",
    "\n",
    "        # delete all indexes from the index list that have\n",
    "        idxs = np.delete(idxs, np.concatenate(([last],\n",
    "                                               np.where(overlap > overlapThresh)[0])))\n",
    "\n",
    "    # return only the bounding boxes that were picked using the\n",
    "    # integer data type\n",
    "    return boxes[pick], scores[pick]\n",
    "\n",
    "\n",
    "def wt_av(x, xw, y, yw):\n",
    "    \"\"\" Calculate a weighted average \"\"\"\n",
    "    return (x*xw+y*yw)/(xw+yw)\n",
    "\n",
    "\n",
    "def averages(boxes, scores, overlapThresh, solo_min=0):\n",
    "    \"\"\" Like non-max-suppression, but take weighted averages of overlapping bounding boxes \"\"\"\n",
    "    # if there are no boxes, return an empty list\n",
    "    if len(boxes) == 0:\n",
    "        return np.array([]).reshape(0, 4), np.array([])\n",
    "    if boxes.dtype.kind == \"i\":\n",
    "        boxes = boxes.astype(\"float\")\n",
    "\n",
    "    pick = []\n",
    "    x1 = boxes[:, 0]\n",
    "    y1 = boxes[:, 1]\n",
    "    x2 = boxes[:, 2]\n",
    "    y2 = boxes[:, 3]\n",
    "\n",
    "    # compute the area of the bounding boxes\n",
    "    area = (x2 - x1 + 1) * (y2 - y1 + 1)\n",
    "\n",
    "    # sort the bounding boxes by scores in ascending order\n",
    "    idxs = np.argsort(scores)\n",
    "\n",
    "    # keep looping while indexes still remain in the indexes list\n",
    "    while len(idxs) > 0:\n",
    "        # grab the last index in the indexes list and add the\n",
    "        # index value to the list of picked indexes\n",
    "        last = len(idxs) - 1\n",
    "        i = idxs[last]\n",
    "\n",
    "        # find the largest (x, y) coordinates for the start of\n",
    "        # the bounding box and the smallest (x, y) coordinates\n",
    "        # for the end of the bounding box\n",
    "        xx1 = np.maximum(x1[i], x1[idxs[:last]])\n",
    "        yy1 = np.maximum(y1[i], y1[idxs[:last]])\n",
    "        xx2 = np.minimum(x2[i], x2[idxs[:last]])\n",
    "        yy2 = np.minimum(y2[i], y2[idxs[:last]])\n",
    "\n",
    "        # compute the width and height of the bounding box\n",
    "        w = np.maximum(0, xx2 - xx1 + 1)\n",
    "        h = np.maximum(0, yy2 - yy1 + 1)\n",
    "\n",
    "        # compute the ratio of overlap\n",
    "        overlap = (w * h) / area[idxs[:last]]\n",
    "\n",
    "        overlap_idx = np.where(overlap > overlapThresh)[0].tolist()[::-1]\n",
    "\n",
    "        if len(overlap_idx) == 0:\n",
    "            if scores[i] >= solo_min:\n",
    "                pick.append(i)\n",
    "        else:\n",
    "            pick.append(i)\n",
    "            for j in overlap_idx:\n",
    "                boxes[i, :] = wt_av(boxes[i, :], scores[i],\n",
    "                                    boxes[idxs[j], :], scores[idxs[j]])\n",
    "                scores[i] = scores[i]+scores[idxs[j]]\n",
    "\n",
    "        # delete all indexes from the index list that have\n",
    "        idxs = np.delete(idxs, np.concatenate(([last],\n",
    "                                               np.where(overlap > overlapThresh)[0])))\n",
    "\n",
    "    # return only the bounding boxes that were picked using the\n",
    "    # integer data type\n",
    "    if len(pick) > 0:\n",
    "        return boxes[pick], scores[pick]\n",
    "    else:\n",
    "        return np.array([]).reshape(0, 4), np.array([])\n",
    "\n",
    "\n",
    "def intersects(boxes, scores, overlapThresh, solo_min=0, shrink=0):\n",
    "    \"\"\" Like weighted averages, but take intersections of overlapping bounding boxes \"\"\"\n",
    "\n",
    "    # if there are no boxes, return an empty list\n",
    "    if len(boxes) == 0:\n",
    "        return np.array([]).reshape(0, 4), np.array([])\n",
    "    if boxes.dtype.kind == \"i\":\n",
    "        boxes = boxes.astype(\"float\")\n",
    "\n",
    "    pick = []\n",
    "    x1 = boxes[:, 0]\n",
    "    y1 = boxes[:, 1]\n",
    "    x2 = boxes[:, 2]\n",
    "    y2 = boxes[:, 3]\n",
    "\n",
    "    # compute the area of the bounding boxes\n",
    "    area = (x2 - x1 + 1) * (y2 - y1 + 1)\n",
    "\n",
    "    # sort the bounding boxes by scores in ascending order\n",
    "    idxs = np.argsort(scores)\n",
    "\n",
    "    # keep looping while indexes still remain in the indexes list\n",
    "    while len(idxs) > 0:\n",
    "        # grab the last index in the indexes list and add the\n",
    "        # index value to the list of picked indexes\n",
    "        last = len(idxs) - 1\n",
    "        i = idxs[last]\n",
    "\n",
    "        # find the largest (x, y) coordinates for the start of\n",
    "        # the bounding box and the smallest (x, y) coordinates\n",
    "        # for the end of the bounding box\n",
    "        xx1 = np.maximum(x1[i], x1[idxs[:last]])\n",
    "        yy1 = np.maximum(y1[i], y1[idxs[:last]])\n",
    "        xx2 = np.minimum(x2[i], x2[idxs[:last]])\n",
    "        yy2 = np.minimum(y2[i], y2[idxs[:last]])\n",
    "\n",
    "        # compute the width and height of the bounding box\n",
    "        w = np.maximum(0, xx2 - xx1 + 1)\n",
    "        h = np.maximum(0, yy2 - yy1 + 1)\n",
    "\n",
    "        # compute the ratio of overlap\n",
    "        overlap = (w * h) / area[idxs[:last]]\n",
    "\n",
    "        overlap_idx = np.where(overlap > overlapThresh)[0].tolist()[::-1]\n",
    "\n",
    "        if len(overlap_idx) == 0:\n",
    "            if scores[i] >= solo_min:\n",
    "                pick.append(i)\n",
    "\n",
    "                shrink_factor = shrink/2\n",
    "                (bx1, by1, bx2, by2) = boxes[i, :]\n",
    "                diffx = bx2-bx1\n",
    "                diffy = by2-by1\n",
    "                boxes[i, 0] += shrink_factor*diffx\n",
    "                boxes[i, 1] -= shrink_factor*diffx\n",
    "                boxes[i, 2] += shrink_factor*diffy\n",
    "                boxes[i, 3] -= shrink_factor*diffy\n",
    "        else:\n",
    "            pick.append(i)\n",
    "            for j in overlap_idx:\n",
    "                boxes[i, :] = (xx1[j], yy1[j], xx2[j], yy2[j])\n",
    "                scores[i] = scores[i]+scores[idxs[j]]\n",
    "\n",
    "        # delete all indexes from the index list that have\n",
    "        idxs = np.delete(idxs, np.concatenate(([last],\n",
    "                                               np.where(overlap > overlapThresh)[0])))\n",
    "\n",
    "    # return only the bounding boxes that were picked using the\n",
    "    # integer data type\n",
    "    if len(pick) > 0:\n",
    "        return boxes[pick], scores[pick]\n",
    "    else:\n",
    "        return np.array([]).reshape(0, 4), np.array([])\n",
    "\n",
    "\n",
    "def shrink(bb, shrink_factor):\n",
    "    \"\"\" Shrinks bounding boxes by a factor in each dimension \"\"\"\n",
    "    if len(bb) > 0:\n",
    "        x1 = bb[:, 0]\n",
    "        y1 = bb[:, 1]\n",
    "        x2 = bb[:, 2]\n",
    "        y2 = bb[:, 3]\n",
    "        diffx = x2-x1\n",
    "        diffy = y2-y1\n",
    "        shrink_factor /= 2\n",
    "        x1 += shrink_factor*diffx\n",
    "        x2 -= shrink_factor*diffx\n",
    "        y1 += shrink_factor*diffy\n",
    "        y2 -= shrink_factor*diffy\n",
    "\n",
    "\n",
    "def overlay_box(im, boxx, rgb, stroke):\n",
    "    \"\"\"\n",
    "    Method to overlay single box on image\n",
    "\n",
    "    \"\"\"\n",
    "    # --- Convert coordinates to integers\n",
    "    for box in boxx:\n",
    "        box = [int(b) for b in box]\n",
    "        \n",
    "        # --- Extract coordinates\n",
    "        x1, y1, width, height, = box\n",
    "        y2 = y1 + height\n",
    "        x2 = x1 + width\n",
    "\n",
    "        im[y1:y1 + stroke, x1:x2] = rgb\n",
    "        im[y2:y2 + stroke, x1:x2] = rgb\n",
    "        im[y1:y2, x1:x1 + stroke] = rgb\n",
    "        im[y1:y2, x2:x2 + stroke] = rgb\n",
    "\n",
    "    return im\n",
    "\n",
    "def draw(im,boxx,path):\n",
    "    \"\"\"\n",
    "    Method to draw single patient with bounding box(es) if present \n",
    "\n",
    "    \"\"\"\n",
    "    # --- Open DICOM file\n",
    "    #d = pydicom.read_file(data['dicom'])\n",
    "    #im = d.pixel_arraymlcour\n",
    "\n",
    "    # --- Convert from single-channel grayscale to 3-channel RGB\n",
    "    #im = np.stack([im] * 3, axis=2)\n",
    "\n",
    "    # --- Add boxes with random color if present\n",
    "\n",
    "    \n",
    "\n",
    "    rgb = np.floor(np.random.rand(3) * 256).astype('int')\n",
    "    im = overlay_box(im=im, boxx=boxx, rgb=rgb, stroke=10)\n",
    "    im = Image.fromarray(im)\n",
    "\n",
    "    #changing image saving path for colab environment\n",
    "    #im.save('./images/'+\"checked_\"+path)\n",
    "    im.save('/content/images/'+\"checked_\"+path)\n",
    "\n",
    "    #return im.shape"
   ]
  },
  {
   "cell_type": "code",
   "execution_count": null,
   "metadata": {
    "colab": {},
    "colab_type": "code",
    "id": "TnTT-PZHa2Wp"
   },
   "outputs": [],
   "source": []
  },
  {
   "cell_type": "code",
   "execution_count": null,
   "metadata": {
    "colab": {},
    "colab_type": "code",
    "id": "__574F_fa2Wu"
   },
   "outputs": [],
   "source": [
    "with open('/content/drive/My Drive/Pneumonia/rsna-pneumonia/settings.json') as json_data_file:\n",
    "    json_data = json.load(json_data_file)"
   ]
  },
  {
   "cell_type": "code",
   "execution_count": null,
   "metadata": {
    "colab": {},
    "colab_type": "code",
    "id": "MRsL_58Ra2Wz"
   },
   "outputs": [],
   "source": [
    "model1_path = json_data[\"MODEL_50\"]\n",
    "#join for colab \n",
    "model1_path = os.path.join('/content/drive/My Drive/Pneumonia/rsna-pneumonia/',model1_path )\n",
    "model1 = models.load_model(model1_path, backbone_name='resnet50', convert=True, nms=False)"
   ]
  },
  {
   "cell_type": "code",
   "execution_count": null,
   "metadata": {
    "colab": {
     "base_uri": "https://localhost:8080/",
     "height": 36
    },
    "colab_type": "code",
    "id": "qCL-lelieYSX",
    "outputId": "62d5cf15-3a89-4566-b33c-0de0bffbf8b9"
   },
   "outputs": [
    {
     "data": {
      "application/vnd.google.colaboratory.intrinsic": {
       "type": "string"
      },
      "text/plain": [
       "'/content/drive/My Drive/Pneumonia/rsna-pneumonia/models/resnet50_csv_22.h5'"
      ]
     },
     "execution_count": 21,
     "metadata": {
      "tags": []
     },
     "output_type": "execute_result"
    }
   ],
   "source": [
    "model1_path"
   ]
  },
  {
   "cell_type": "code",
   "execution_count": null,
   "metadata": {
    "colab": {
     "base_uri": "https://localhost:8080/",
     "height": 36
    },
    "colab_type": "code",
    "id": "Yq2BVeOUJw9a",
    "outputId": "a7297fcb-a853-418a-b71e-448db3bf3b6a"
   },
   "outputs": [
    {
     "data": {
      "application/vnd.google.colaboratory.intrinsic": {
       "type": "string"
      },
      "text/plain": [
       "'1.9.0'"
      ]
     },
     "execution_count": 22,
     "metadata": {
      "tags": []
     },
     "output_type": "execute_result"
    }
   ],
   "source": [
    "#import tensorflow\n",
    "#tensorflow.__version__"
   ]
  },
  {
   "cell_type": "code",
   "execution_count": null,
   "metadata": {
    "colab": {},
    "colab_type": "code",
    "id": "-lbX36Wja2W4"
   },
   "outputs": [],
   "source": [
    "model2_path = json_data[\"MODEL_101\"]\n",
    "#join for colab \n",
    "model2_path = os.path.join('/content/drive/My Drive/Pneumonia/rsna-pneumonia/',model2_path )\n",
    "model2 = models.load_model(model2_path, backbone_name='resnet101', convert=True, nms=False)"
   ]
  },
  {
   "cell_type": "code",
   "execution_count": null,
   "metadata": {
    "colab": {},
    "colab_type": "code",
    "id": "MAduScgEa2W8"
   },
   "outputs": [],
   "source": [
    "sz = 224\n",
    "\n",
    "# threshold for non-max-suppresion for each model\n",
    "nms_threshold = 0\n",
    "\n",
    "# shrink bounding box dimensions by this factor, improves test set performance\n",
    "shrink_factor = 0.17\n",
    "\n",
    "# threshold for judging overlap of bounding boxes between different networks (for weighted average)\n",
    "wt_overlap = 0\n",
    "\n",
    "# threshold for including boxes from model 1\n",
    "score_threshold1 = 0.04\n",
    "\n",
    "# threshold for including boxes from model 2\n",
    "score_threshold2 = 0.05\n",
    "\n",
    "# threshold for including isolated boxes from either model\n",
    "solo_min = 0.15"
   ]
  },
  {
   "cell_type": "code",
   "execution_count": null,
   "metadata": {
    "colab": {},
    "colab_type": "code",
    "id": "m2zvjsNca2W_"
   },
   "outputs": [],
   "source": [
    "import time\n",
    "import cv2\n",
    "import os"
   ]
  },
  {
   "cell_type": "code",
   "execution_count": null,
   "metadata": {
    "colab": {
     "base_uri": "https://localhost:8080/",
     "height": 36
    },
    "colab_type": "code",
    "id": "kgPGAScccD1g",
    "outputId": "cf4acb39-9c64-4b45-a5ab-7d329098c37f"
   },
   "outputs": [
    {
     "data": {
      "application/vnd.google.colaboratory.intrinsic": {
       "type": "string"
      },
      "text/plain": [
       "'/content'"
      ]
     },
     "execution_count": 28,
     "metadata": {
      "tags": []
     },
     "output_type": "execute_result"
    }
   ],
   "source": [
    "pwd"
   ]
  },
  {
   "cell_type": "code",
   "execution_count": null,
   "metadata": {
    "colab": {
     "base_uri": "https://localhost:8080/",
     "height": 35
    },
    "colab_type": "code",
    "id": "5bS_53ShcHmT",
    "outputId": "f950c98a-f3fc-43b3-c0be-42a9c0a21a4c"
   },
   "outputs": [
    {
     "name": "stdout",
     "output_type": "stream",
     "text": [
      "/content\n"
     ]
    }
   ],
   "source": [
    "%cd /content"
   ]
  },
  {
   "cell_type": "code",
   "execution_count": null,
   "metadata": {
    "colab": {},
    "colab_type": "code",
    "id": "Pu8LmfSVdf2e"
   },
   "outputs": [],
   "source": [
    "#create folder to store images\n",
    "%mkdir images"
   ]
  },
  {
   "cell_type": "code",
   "execution_count": null,
   "metadata": {
    "colab": {},
    "colab_type": "code",
    "id": "8wFASo36a2XF"
   },
   "outputs": [],
   "source": [
    "file_path=[]\n",
    "score_list=[]\n",
    "d = \"/content/drive/My Drive/Pneumonia/rsna-pneumonia/data/DR/\"\n",
    "for path in os.listdir(d):\n",
    "    full_path = os.path.join(d, path)\n",
    "    if os.path.isfile(full_path):\n",
    "        file_path.append(path)\n",
    "        #fid = fname[:-4]\n",
    "        start = time.time()\n",
    "        fpath = d+path\n",
    "\n",
    "        boxes_pred1, scores1 = get_detection_from_file(fpath, model1, sz)\n",
    "        boxes_pred2, scores2 = get_detection_from_file(fpath, model2, sz)\n",
    "\n",
    "\n",
    "        indices1 = np.where(scores1 > score_threshold1)[0]\n",
    "        scores1 = scores1[indices1]\n",
    "        boxes_pred1 = boxes_pred1[indices1]\n",
    "        boxes_pred1, scores1 = nms(boxes_pred1, scores1, nms_threshold)\n",
    "\n",
    "        indices2 = np.where(scores2 > score_threshold2)[0]\n",
    "        scores2 = scores2[indices2]\n",
    "        boxes_pred2 = boxes_pred2[indices2]\n",
    "        boxes_pred2, scores2 = nms(boxes_pred2, scores2, nms_threshold)\n",
    "\n",
    "        #boxes_pred = boxes_pred1+boxes_pred2\n",
    "        #scores = scores1+scores2\n",
    "        \n",
    "        boxes_pred = np.concatenate((boxes_pred1, boxes_pred2))\n",
    "        scores = np.concatenate((scores1, scores2))\n",
    "\n",
    "        boxes_pred, scores = averages(\n",
    "        boxes_pred, scores, wt_overlap, solo_min)\n",
    "        shrink(boxes_pred, shrink_factor)\n",
    "        \n",
    "        score_list.append(scores)\n",
    "        \n",
    "        boxx = []\n",
    "        #print(boxes_pred,scores)\n",
    "\n",
    "        for i, bb in enumerate(boxes_pred):\n",
    "            x1 = int(bb[0])\n",
    "            y1 = int(bb[1])\n",
    "            w = int(bb[2]-x1+1)\n",
    "            h = int(bb[3]-y1+1)\n",
    "\n",
    "            boxx.append([x1,y1,w,h])\n",
    "\n",
    "        im = cv2.imread(fpath)\n",
    "        draw(im,boxx,path)"
   ]
  },
  {
   "cell_type": "code",
   "execution_count": null,
   "metadata": {
    "colab": {
     "base_uri": "https://localhost:8080/",
     "height": 35
    },
    "colab_type": "code",
    "id": "gz-9WOk5a2XK",
    "outputId": "312b6f05-b308-4e8a-9198-cc942c503087"
   },
   "outputs": [
    {
     "name": "stdout",
     "output_type": "stream",
     "text": [
      "140\n"
     ]
    }
   ],
   "source": [
    "print(len(score_list))"
   ]
  },
  {
   "cell_type": "code",
   "execution_count": null,
   "metadata": {
    "colab": {
     "base_uri": "https://localhost:8080/",
     "height": 1000
    },
    "colab_type": "code",
    "id": "s0B0DP1qwPPT",
    "outputId": "230056a1-391b-403a-e3be-79bcc2fe6a2e"
   },
   "outputs": [
    {
     "data": {
      "text/plain": [
       "[array([], dtype=float64),\n",
       " array([0.44920444, 0.14200695], dtype=float32),\n",
       " array([], dtype=float64),\n",
       " array([], dtype=float64),\n",
       " array([], dtype=float64),\n",
       " array([], dtype=float64),\n",
       " array([], dtype=float64),\n",
       " array([], dtype=float64),\n",
       " array([], dtype=float64),\n",
       " array([], dtype=float64),\n",
       " array([], dtype=float64),\n",
       " array([], dtype=float64),\n",
       " array([], dtype=float64),\n",
       " array([], dtype=float64),\n",
       " array([], dtype=float64),\n",
       " array([], dtype=float64),\n",
       " array([0.127442], dtype=float32),\n",
       " array([], dtype=float64),\n",
       " array([0.61687785], dtype=float32),\n",
       " array([], dtype=float64),\n",
       " array([], dtype=float64),\n",
       " array([], dtype=float64),\n",
       " array([], dtype=float64),\n",
       " array([], dtype=float64),\n",
       " array([], dtype=float64),\n",
       " array([0.55684555, 0.28349876], dtype=float32),\n",
       " array([], dtype=float64),\n",
       " array([], dtype=float64),\n",
       " array([0.1930089], dtype=float32),\n",
       " array([], dtype=float64),\n",
       " array([], dtype=float64),\n",
       " array([], dtype=float64),\n",
       " array([], dtype=float64),\n",
       " array([0.24927005, 0.24645115], dtype=float32),\n",
       " array([], dtype=float64),\n",
       " array([], dtype=float64),\n",
       " array([], dtype=float64),\n",
       " array([], dtype=float64),\n",
       " array([], dtype=float64),\n",
       " array([], dtype=float64),\n",
       " array([], dtype=float64),\n",
       " array([], dtype=float64),\n",
       " array([], dtype=float64),\n",
       " array([], dtype=float64),\n",
       " array([0.54097986], dtype=float32),\n",
       " array([], dtype=float64),\n",
       " array([0.28046066, 0.12344341], dtype=float32),\n",
       " array([], dtype=float64),\n",
       " array([], dtype=float64),\n",
       " array([], dtype=float64),\n",
       " array([0.17712808], dtype=float32),\n",
       " array([], dtype=float64),\n",
       " array([], dtype=float64),\n",
       " array([], dtype=float64),\n",
       " array([0.1014335], dtype=float32),\n",
       " array([], dtype=float64),\n",
       " array([], dtype=float64),\n",
       " array([0.10632884], dtype=float32),\n",
       " array([], dtype=float64),\n",
       " array([], dtype=float64),\n",
       " array([], dtype=float64),\n",
       " array([], dtype=float64),\n",
       " array([], dtype=float64),\n",
       " array([], dtype=float64),\n",
       " array([], dtype=float64),\n",
       " array([], dtype=float64),\n",
       " array([], dtype=float64),\n",
       " array([], dtype=float64),\n",
       " array([], dtype=float64),\n",
       " array([], dtype=float64),\n",
       " array([], dtype=float64),\n",
       " array([], dtype=float64),\n",
       " array([], dtype=float64),\n",
       " array([], dtype=float64),\n",
       " array([], dtype=float64),\n",
       " array([], dtype=float64),\n",
       " array([], dtype=float64),\n",
       " array([], dtype=float64),\n",
       " array([], dtype=float64),\n",
       " array([], dtype=float64),\n",
       " array([], dtype=float64),\n",
       " array([], dtype=float64),\n",
       " array([], dtype=float64),\n",
       " array([], dtype=float64),\n",
       " array([], dtype=float64),\n",
       " array([], dtype=float64),\n",
       " array([], dtype=float64),\n",
       " array([], dtype=float64),\n",
       " array([], dtype=float64),\n",
       " array([], dtype=float64),\n",
       " array([], dtype=float64),\n",
       " array([0.17051795, 0.14404586], dtype=float32),\n",
       " array([], dtype=float64),\n",
       " array([], dtype=float64),\n",
       " array([], dtype=float64),\n",
       " array([0.12651218], dtype=float32),\n",
       " array([], dtype=float64),\n",
       " array([], dtype=float64),\n",
       " array([], dtype=float64),\n",
       " array([], dtype=float64),\n",
       " array([0.13106164, 0.10445281], dtype=float32),\n",
       " array([], dtype=float64),\n",
       " array([], dtype=float64),\n",
       " array([], dtype=float64),\n",
       " array([], dtype=float64),\n",
       " array([0.19588503], dtype=float32),\n",
       " array([], dtype=float64),\n",
       " array([], dtype=float64),\n",
       " array([0.21821722], dtype=float32),\n",
       " array([], dtype=float64),\n",
       " array([], dtype=float64),\n",
       " array([], dtype=float64),\n",
       " array([], dtype=float64),\n",
       " array([], dtype=float64),\n",
       " array([], dtype=float64),\n",
       " array([], dtype=float64),\n",
       " array([], dtype=float64),\n",
       " array([], dtype=float64),\n",
       " array([0.16011027], dtype=float32),\n",
       " array([], dtype=float64),\n",
       " array([], dtype=float64),\n",
       " array([0.15041217], dtype=float32),\n",
       " array([], dtype=float64),\n",
       " array([], dtype=float64),\n",
       " array([0.26575702], dtype=float32),\n",
       " array([0.11878522], dtype=float32),\n",
       " array([], dtype=float64),\n",
       " array([], dtype=float64),\n",
       " array([], dtype=float64),\n",
       " array([], dtype=float64),\n",
       " array([], dtype=float64),\n",
       " array([], dtype=float64),\n",
       " array([], dtype=float64),\n",
       " array([], dtype=float64),\n",
       " array([], dtype=float64),\n",
       " array([], dtype=float64),\n",
       " array([], dtype=float64),\n",
       " array([], dtype=float64),\n",
       " array([], dtype=float64),\n",
       " array([], dtype=float64)]"
      ]
     },
     "execution_count": 33,
     "metadata": {
      "tags": []
     },
     "output_type": "execute_result"
    }
   ],
   "source": [
    "score_list"
   ]
  },
  {
   "cell_type": "code",
   "execution_count": null,
   "metadata": {
    "colab": {},
    "colab_type": "code",
    "id": "EbegpSdHa2XO"
   },
   "outputs": [],
   "source": [
    "data = {'col_1': file_path, 'col_2': score_list}\n",
    "df=pd.DataFrame.from_dict(data)"
   ]
  },
  {
   "cell_type": "code",
   "execution_count": null,
   "metadata": {
    "colab": {},
    "colab_type": "code",
    "id": "GqRxb_eMa2XT"
   },
   "outputs": [],
   "source": [
    "df.to_csv('out.csv')"
   ]
  },
  {
   "cell_type": "code",
   "execution_count": null,
   "metadata": {
    "colab": {
     "base_uri": "https://localhost:8080/",
     "height": 36
    },
    "colab_type": "code",
    "id": "Q2faNUMPUaXs",
    "outputId": "d2df01be-3a5e-40b5-8cc4-bd337d4ed429"
   },
   "outputs": [
    {
     "data": {
      "application/vnd.google.colaboratory.intrinsic": {
       "type": "string"
      },
      "text/plain": [
       "'/content'"
      ]
     },
     "execution_count": 72,
     "metadata": {
      "tags": []
     },
     "output_type": "execute_result"
    }
   ],
   "source": [
    "pwd"
   ]
  },
  {
   "cell_type": "code",
   "execution_count": null,
   "metadata": {
    "colab": {},
    "colab_type": "code",
    "id": "BPUjbFXMa2XY"
   },
   "outputs": [],
   "source": [
    "#fid = fname[:-4]\n",
    "start = time.time()\n",
    "fpath = '/content/drive/My Drive/Pneumonia/rsna-pneumonia/./test/05.jpg'\n",
    "\n",
    "#boxes_pred1, scores1 = util.get_detection_from_file(fpath, model1, sz)\n",
    "boxes_pred2, scores2 = get_detection_from_file(fpath, model2, sz)\n",
    "\n",
    "\n",
    "# indices1 = np.where(scores1 > score_threshold1)[0]\n",
    "# scores1 = scores1[indices1]\n",
    "# boxes_pred1 = boxes_pred1[indices1]\n",
    "# boxes_pred1, scores1 = util.nms(boxes_pred1, scores1, nms_threshold)\n",
    "\n",
    "indices2 = np.where(scores2 > score_threshold2)[0]\n",
    "scores2 = scores2[indices2]\n",
    "boxes_pred2 = boxes_pred2[indices2]\n",
    "boxes_pred2, scores2 = nms(boxes_pred2, scores2, nms_threshold)\n",
    "\n",
    "boxes_pred = boxes_pred2\n",
    "scores = scores2\n",
    "\n",
    "boxx = []\n",
    "#print(boxes_pred,scores)\n",
    "\n",
    "for i, bb in enumerate(boxes_pred):\n",
    "    x1 = int(bb[0])\n",
    "    y1 = int(bb[1])\n",
    "    w = int(bb[2]-x1+1)\n",
    "    h = int(bb[3]-y1+1)\n",
    "    \n",
    "    boxx.append([x1,y1,w,h])"
   ]
  },
  {
   "cell_type": "code",
   "execution_count": null,
   "metadata": {
    "colab": {},
    "colab_type": "code",
    "id": "7MtUoDLfa2Xb"
   },
   "outputs": [],
   "source": [
    "import cv2\n",
    "im = cv2.imread(fpath)"
   ]
  },
  {
   "cell_type": "code",
   "execution_count": null,
   "metadata": {
    "colab": {
     "base_uri": "https://localhost:8080/",
     "height": 35
    },
    "colab_type": "code",
    "id": "dIuT22d9a2Xg",
    "outputId": "40d50659-c345-4257-ee7d-ed61cf2c4890"
   },
   "outputs": [
    {
     "name": "stdout",
     "output_type": "stream",
     "text": [
      "[0.5625763]\n"
     ]
    }
   ],
   "source": [
    "print(scores)"
   ]
  },
  {
   "cell_type": "code",
   "execution_count": null,
   "metadata": {
    "colab": {},
    "colab_type": "code",
    "id": "bRWCAHU0a2Xj"
   },
   "outputs": [],
   "source": []
  },
  {
   "cell_type": "code",
   "execution_count": null,
   "metadata": {
    "colab": {},
    "colab_type": "code",
    "id": "IyibEIPva2Xo"
   },
   "outputs": [],
   "source": []
  },
  {
   "cell_type": "code",
   "execution_count": null,
   "metadata": {
    "colab": {},
    "colab_type": "code",
    "id": "oAyKSCf2a2Xr"
   },
   "outputs": [],
   "source": [
    "draw(im,boxx,\"cxray.jpg\")"
   ]
  },
  {
   "cell_type": "code",
   "execution_count": null,
   "metadata": {
    "colab": {},
    "colab_type": "code",
    "id": "hWJZnThda2Xu"
   },
   "outputs": [],
   "source": [
    "#img = Image.open('/content/images/checked_cxray.jpg')\n",
    "#img.show()"
   ]
  },
  {
   "cell_type": "code",
   "execution_count": null,
   "metadata": {
    "colab": {},
    "colab_type": "code",
    "id": "UtqNiAA4a2Xy"
   },
   "outputs": [],
   "source": []
  },
  {
   "cell_type": "code",
   "execution_count": null,
   "metadata": {
    "colab": {},
    "colab_type": "code",
    "id": "Qky1ZHwla2X3"
   },
   "outputs": [],
   "source": []
  }
 ],
 "metadata": {
  "colab": {
   "name": "Copy of Boundary box for single image .ipynb",
   "provenance": []
  },
  "kernelspec": {
   "display_name": "Python 3",
   "language": "python",
   "name": "python3"
  },
  "language_info": {
   "codemirror_mode": {
    "name": "ipython",
    "version": 3
   },
   "file_extension": ".py",
   "mimetype": "text/x-python",
   "name": "python",
   "nbconvert_exporter": "python",
   "pygments_lexer": "ipython3",
   "version": "3.7.3"
  }
 },
 "nbformat": 4,
 "nbformat_minor": 1
}
