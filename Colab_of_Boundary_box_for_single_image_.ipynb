{
  "nbformat": 4,
  "nbformat_minor": 0,
  "metadata": {
    "kernelspec": {
      "display_name": "Python 3",
      "language": "python",
      "name": "python3"
    },
    "language_info": {
      "codemirror_mode": {
        "name": "ipython",
        "version": 3
      },
      "file_extension": ".py",
      "mimetype": "text/x-python",
      "name": "python",
      "nbconvert_exporter": "python",
      "pygments_lexer": "ipython3",
      "version": "3.7.4"
    },
    "colab": {
      "name": "Copy of Boundary box for single image .ipynb",
      "provenance": []
    }
  },
  "cells": [
    {
      "cell_type": "code",
      "metadata": {
        "id": "D9mofV5ca2WR",
        "colab_type": "code",
        "colab": {}
      },
      "source": [
        "import os\n",
        "import sys\n",
        "import time\n",
        "import json\n",
        "import numpy as np\n",
        "import pandas as pd\n",
        "import matplotlib.pyplot as plt\n",
        "\n",
        "import warnings\n",
        "warnings.filterwarnings('ignore')"
      ],
      "execution_count": 20,
      "outputs": []
    },
    {
      "cell_type": "markdown",
      "metadata": {
        "id": "ylHUNILaRc_j",
        "colab_type": "text"
      },
      "source": [
        "cuda version 9 needed to be installed. with tf-gpu 1.9, keras 2.2"
      ]
    },
    {
      "cell_type": "code",
      "metadata": {
        "id": "Ubbq0BPVa7pD",
        "colab_type": "code",
        "colab": {}
      },
      "source": [
        "from google.colab import drive\n",
        "drive.mount('/content/drive')\n"
      ],
      "execution_count": null,
      "outputs": []
    },
    {
      "cell_type": "markdown",
      "metadata": {
        "id": "5Z7lRmcBXo7_",
        "colab_type": "text"
      },
      "source": [
        "Installing custom Keras Retinanet module"
      ]
    },
    {
      "cell_type": "code",
      "metadata": {
        "id": "yvQNZ8BL4rxz",
        "colab_type": "code",
        "colab": {}
      },
      "source": [
        " %cd \"/content/drive/My Drive/Pneumonia/rsna-pneumonia/keras-retinanet\"   "
      ],
      "execution_count": null,
      "outputs": []
    },
    {
      "cell_type": "code",
      "metadata": {
        "id": "_uErc2rO4zON",
        "colab_type": "code",
        "colab": {}
      },
      "source": [
        "pwd #check current path"
      ],
      "execution_count": null,
      "outputs": []
    },
    {
      "cell_type": "code",
      "metadata": {
        "id": "5PenS0P041JJ",
        "colab_type": "code",
        "colab": {}
      },
      "source": [
        "!python setup.py build_ext --inplace  #installing keras retinanet"
      ],
      "execution_count": null,
      "outputs": []
    },
    {
      "cell_type": "markdown",
      "metadata": {
        "id": "BdITy6V9X1_T",
        "colab_type": "text"
      },
      "source": [
        "Installing packages of specific versions"
      ]
    },
    {
      "cell_type": "code",
      "metadata": {
        "id": "Uy0oRiTi8cT0",
        "colab_type": "code",
        "colab": {}
      },
      "source": [
        "pip install pydicom==1.1.0 Keras==2.2.2 keras-resnet==0.1.0 tensorflow-gpu==1.9.0 # you will have to restart runtime after installing"
      ],
      "execution_count": 11,
      "outputs": []
    },
    {
      "cell_type": "code",
      "metadata": {
        "id": "n4pJtt-J_yPL",
        "colab_type": "code",
        "colab": {}
      },
      "source": [
        "#Cuda version\n",
        "!nvcc --version"
      ],
      "execution_count": null,
      "outputs": []
    },
    {
      "cell_type": "code",
      "metadata": {
        "id": "j1X5MGyaAfwB",
        "colab_type": "code",
        "colab": {}
      },
      "source": [
        ""
      ],
      "execution_count": null,
      "outputs": []
    },
    {
      "cell_type": "code",
      "metadata": {
        "id": "OUnPIAvXGH6A",
        "colab_type": "code",
        "colab": {}
      },
      "source": [
        "#from keras_retinanet.utils.keras_version import check_keras_version"
      ],
      "execution_count": null,
      "outputs": []
    },
    {
      "cell_type": "code",
      "metadata": {
        "id": "8fjB5TBeN06D",
        "colab_type": "code",
        "colab": {}
      },
      "source": [
        ""
      ],
      "execution_count": 4,
      "outputs": []
    },
    {
      "cell_type": "code",
      "metadata": {
        "id": "qSe8TDNKJXSZ",
        "colab_type": "code",
        "colab": {}
      },
      "source": [
        "#downgrade cuda to version 9 from 10\n",
        "!wget https://developer.nvidia.com/compute/cuda/9.0/Prod/local_installers/cuda-repo-ubuntu1604-9-0-local_9.0.176-1_amd64-deb\n",
        "!dpkg -i cuda-repo-ubuntu1604-9-0-local_9.0.176-1_amd64-deb\n",
        "!apt-key add /var/cuda-repo-9-0-local/7fa2af80.pub\n",
        "!apt-get update\n",
        "!apt-get install cuda=9.0.176-1'''"
      ],
      "execution_count": 7,
      "outputs": []
    },
    {
      "cell_type": "code",
      "metadata": {
        "id": "GjqQUUw8a2Wk",
        "colab_type": "code",
        "colab": {}
      },
      "source": [
        "from keras_retinanet import models"
      ],
      "execution_count": 24,
      "outputs": []
    },
    {
      "cell_type": "code",
      "metadata": {
        "id": "eaZxQ1knhvzI",
        "colab_type": "code",
        "colab": {
          "base_uri": "https://localhost:8080/",
          "height": 35
        },
        "outputId": "538d96e9-b8c0-4f75-d33a-527985141eae"
      },
      "source": [
        "%cd \"/content\""
      ],
      "execution_count": 25,
      "outputs": [
        {
          "output_type": "stream",
          "text": [
            "/content\n"
          ],
          "name": "stdout"
        }
      ]
    },
    {
      "cell_type": "code",
      "metadata": {
        "id": "MngCfwocXSxH",
        "colab_type": "code",
        "colab": {}
      },
      "source": [
        "\"\"\"Utility functions\"\"\"\n",
        "\n",
        "import os\n",
        "import sys\n",
        "import numpy as np\n",
        "import pydicom\n",
        "from PIL import Image\n",
        "import matplotlib.pyplot as plt\n",
        "import cv2\n",
        "sys.path.append(\"keras-retinanet\")\n",
        "from keras_retinanet.utils.image import read_image_bgr, preprocess_image, resize_image\n",
        "\n",
        "\n",
        "def dicom_to_jpg(in_file, out_file, out_size):\n",
        "    \"\"\" Convert dicom file to jpg with specified size \"\"\"\n",
        "    ds = pydicom.read_file(in_file)\n",
        "    size = (ds.Columns, ds.Rows)\n",
        "    mode = 'L'\n",
        "    im = Image.frombuffer(mode, size, ds.pixel_array,\n",
        "                          \"raw\", mode, 0, 1).convert(\"L\")\n",
        "    im = im.resize((out_size, out_size), resample=Image.BICUBIC)\n",
        "    im.save(out_file, quality=95)\n",
        "\n",
        "\n",
        "def iou(box1, box2):\n",
        "    \"\"\"\n",
        "    From Yicheng Chen's \"Mean Average Precision Metric\"\n",
        "    https://www.kaggle.com/chenyc15/mean-average-precision-metric\n",
        "\n",
        "    helper function to calculate IoU\n",
        "    \"\"\"\n",
        "    x11, y11, x12, y12 = box1\n",
        "    x21, y21, x22, y22 = box2\n",
        "    w1, h1 = x12-x11, y12-y11\n",
        "    w2, h2 = x22-x21, y22-y21\n",
        "\n",
        "    area1, area2 = w1 * h1, w2 * h2\n",
        "    xi1, yi1, xi2, yi2 = max([x11, x21]), max(\n",
        "        [y11, y21]), min([x12, x22]), min([y12, y22])\n",
        "\n",
        "    if xi2 <= xi1 or yi2 <= yi1:\n",
        "        return 0\n",
        "    else:\n",
        "        intersect = (xi2-xi1) * (yi2-yi1)\n",
        "        union = area1 + area2 - intersect\n",
        "        return intersect / union\n",
        "\n",
        "\n",
        "def map_iou(boxes_true, boxes_pred, scores, thresholds=[0.4, 0.45, 0.5, 0.55, 0.6, 0.65, 0.7, 0.75]):\n",
        "    \"\"\"\n",
        "    From Yicheng Chen's \"Mean Average Precision Metric\"\n",
        "    https://www.kaggle.com/chenyc15/mean-average-precision-metric\n",
        "\n",
        "    Mean average precision at differnet intersection over union (IoU) threshold\n",
        "\n",
        "    input:\n",
        "        boxes_true: Mx4 numpy array of ground true bounding boxes of one image. \n",
        "                    bbox format: (x1, y1, w, h)\n",
        "        boxes_pred: Nx4 numpy array of predicted bounding boxes of one image. \n",
        "                    bbox format: (x1, y1, w, h)\n",
        "        scores:     length N numpy array of scores associated with predicted bboxes\n",
        "        thresholds: IoU shresholds to evaluate mean average precision on\n",
        "    output: \n",
        "        map: mean average precision of the image\n",
        "    \"\"\"\n",
        "\n",
        "    # According to the introduction, images with no ground truth bboxes will not be\n",
        "    # included in the map score unless there is a false positive detection (?)\n",
        "\n",
        "    # return None if both are empty, don't count the image in final evaluation (?)\n",
        "    if len(boxes_true) == 0 and len(boxes_pred) == 0:\n",
        "        return None\n",
        "\n",
        "    assert boxes_true.shape[1] == 4 or boxes_pred.shape[1] == 4, \"boxes should be 2D arrays with shape[1]=4\"\n",
        "    if len(boxes_pred):\n",
        "        assert len(scores) == len(\n",
        "            boxes_pred), \"boxes_pred and scores should be same length\"\n",
        "        # sort boxes_pred by scores in decreasing order\n",
        "        boxes_pred = boxes_pred[np.argsort(scores)[::-1], :]\n",
        "\n",
        "    map_total = 0\n",
        "\n",
        "    # loop over thresholds\n",
        "    for t in thresholds:\n",
        "        matched_bt = set()\n",
        "        tp, fn = 0, 0\n",
        "        for i, bt in enumerate(boxes_true):\n",
        "            matched = False\n",
        "            for j, bp in enumerate(boxes_pred):\n",
        "                miou = iou(bt, bp)\n",
        "                if miou >= t and not matched and j not in matched_bt:\n",
        "                    matched = True\n",
        "                    tp += 1  # bt is matched for the first time, count as TP\n",
        "                    matched_bt.add(j)\n",
        "            if not matched:\n",
        "                fn += 1  # bt has no match, count as FN\n",
        "\n",
        "        # FP is the bp that not matched to any bt\n",
        "        fp = len(boxes_pred) - len(matched_bt)\n",
        "        m = tp / (tp + fn + fp)\n",
        "        map_total += m\n",
        "\n",
        "    return map_total / len(thresholds)\n",
        "\n",
        "\n",
        "def get_annotations(generator):\n",
        "    \"\"\" Return list of annotations from generator \"\"\"\n",
        "    annotations = []\n",
        "    for i in range(generator.size()):\n",
        "        # load the annotations\n",
        "        annotation = generator.load_annotations(i)[:, :4]\n",
        "        annotations.append(annotation)\n",
        "    return annotations\n",
        "\n",
        "\n",
        "def get_scores(model, image, scale):\n",
        "    \"\"\" Return calculated bounding boxes and scores for an image \"\"\"\n",
        "    # run network\n",
        "    boxes, scores, labels = model.predict_on_batch(\n",
        "        np.expand_dims(image, axis=0))\n",
        "\n",
        "    # correct boxes for image scale\n",
        "    boxes /= scale\n",
        "\n",
        "    image_scores = scores[0]\n",
        "    image_boxes = boxes[0]\n",
        "\n",
        "    return (image_boxes, image_scores)\n",
        "\n",
        "\n",
        "def get_view_from_dicom(dcmfile):\n",
        "    \"\"\" Return ViewPosition dicom field from .dcm file \"\"\"\n",
        "    ds = pydicom.read_file(dcmfile)\n",
        "    return ds.ViewPosition\n",
        "\n",
        "\n",
        "def get_views_from_generator(generator, dcmdir):\n",
        "    views = []\n",
        "    for i in range(generator.size()):\n",
        "        dcmfile = os.path.basename(generator.image_path(i))[:-4]+\".dcm\"\n",
        "        dcmfpath = os.path.join(dcmdir, dcmfile)\n",
        "        views.append(get_view_from_dicom(dcmfpath))\n",
        "    return views\n",
        "\n",
        "\n",
        "def get_detection_from_file(fpath, model, sz):\n",
        "    image = read_image_bgr(fpath)\n",
        "    image = preprocess_image(image)\n",
        "    image, scale = resize_image(image, min_side=sz)\n",
        "    return get_scores(model, image, scale)\n",
        "\n",
        "\n",
        "def get_detections_from_generator(generator, model):\n",
        "    detections = []\n",
        "\n",
        "    for i in range(generator.size()):\n",
        "        path = generator.image_path(i)\n",
        "        raw_image = generator.load_image(i)\n",
        "        image = generator.preprocess_image(raw_image.copy())\n",
        "        image, scale = generator.resize_image(image)\n",
        "        detections.append(get_scores(model, image, scale))\n",
        "    return detections\n",
        "\n",
        "\n",
        "def nms(boxes, scores, overlapThresh):\n",
        "    \"\"\"\n",
        "    adapted from non-maximum suppression by Adrian Rosebrock\n",
        "    https://www.pyimagesearch.com/2015/02/16/faster-non-maximum-suppression-python/\n",
        "    \"\"\"\n",
        "\n",
        "    # if there are no boxes, return an empty list\n",
        "    if len(boxes) == 0:\n",
        "        return np.array([]).reshape(0, 4), np.array([])\n",
        "    if boxes.dtype.kind == \"i\":\n",
        "        boxes = boxes.astype(\"float\")\n",
        "\n",
        "    pick = []\n",
        "    x1 = boxes[:, 0]\n",
        "    y1 = boxes[:, 1]\n",
        "    x2 = boxes[:, 2]\n",
        "    y2 = boxes[:, 3]\n",
        "\n",
        "    # compute the area of the bounding boxes\n",
        "    area = (x2 - x1 + 1) * (y2 - y1 + 1)\n",
        "\n",
        "    # sort the bounding boxes by scores in ascending order\n",
        "    idxs = np.argsort(scores)\n",
        "\n",
        "    # keep looping while indexes still remain in the indexes list\n",
        "    while len(idxs) > 0:\n",
        "        # grab the last index in the indexes list and add the\n",
        "        # index value to the list of picked indexes\n",
        "        last = len(idxs) - 1\n",
        "        i = idxs[last]\n",
        "        pick.append(i)\n",
        "\n",
        "        # find the largest (x, y) coordinates for the start of\n",
        "        # the bounding box and the smallest (x, y) coordinates\n",
        "        # for the end of the bounding box\n",
        "        xx1 = np.maximum(x1[i], x1[idxs[:last]])\n",
        "        yy1 = np.maximum(y1[i], y1[idxs[:last]])\n",
        "        xx2 = np.minimum(x2[i], x2[idxs[:last]])\n",
        "        yy2 = np.minimum(y2[i], y2[idxs[:last]])\n",
        "\n",
        "        # compute the width and height of the bounding box\n",
        "        w = np.maximum(0, xx2 - xx1 + 1)\n",
        "        h = np.maximum(0, yy2 - yy1 + 1)\n",
        "\n",
        "        # compute the ratio of overlap\n",
        "        overlap = (w * h) / area[idxs[:last]]\n",
        "\n",
        "        # delete all indexes from the index list that have\n",
        "        idxs = np.delete(idxs, np.concatenate(([last],\n",
        "                                               np.where(overlap > overlapThresh)[0])))\n",
        "\n",
        "    # return only the bounding boxes that were picked using the\n",
        "    # integer data type\n",
        "    return boxes[pick], scores[pick]\n",
        "\n",
        "\n",
        "def wt_av(x, xw, y, yw):\n",
        "    \"\"\" Calculate a weighted average \"\"\"\n",
        "    return (x*xw+y*yw)/(xw+yw)\n",
        "\n",
        "\n",
        "def averages(boxes, scores, overlapThresh, solo_min=0):\n",
        "    \"\"\" Like non-max-suppression, but take weighted averages of overlapping bounding boxes \"\"\"\n",
        "    # if there are no boxes, return an empty list\n",
        "    if len(boxes) == 0:\n",
        "        return np.array([]).reshape(0, 4), np.array([])\n",
        "    if boxes.dtype.kind == \"i\":\n",
        "        boxes = boxes.astype(\"float\")\n",
        "\n",
        "    pick = []\n",
        "    x1 = boxes[:, 0]\n",
        "    y1 = boxes[:, 1]\n",
        "    x2 = boxes[:, 2]\n",
        "    y2 = boxes[:, 3]\n",
        "\n",
        "    # compute the area of the bounding boxes\n",
        "    area = (x2 - x1 + 1) * (y2 - y1 + 1)\n",
        "\n",
        "    # sort the bounding boxes by scores in ascending order\n",
        "    idxs = np.argsort(scores)\n",
        "\n",
        "    # keep looping while indexes still remain in the indexes list\n",
        "    while len(idxs) > 0:\n",
        "        # grab the last index in the indexes list and add the\n",
        "        # index value to the list of picked indexes\n",
        "        last = len(idxs) - 1\n",
        "        i = idxs[last]\n",
        "\n",
        "        # find the largest (x, y) coordinates for the start of\n",
        "        # the bounding box and the smallest (x, y) coordinates\n",
        "        # for the end of the bounding box\n",
        "        xx1 = np.maximum(x1[i], x1[idxs[:last]])\n",
        "        yy1 = np.maximum(y1[i], y1[idxs[:last]])\n",
        "        xx2 = np.minimum(x2[i], x2[idxs[:last]])\n",
        "        yy2 = np.minimum(y2[i], y2[idxs[:last]])\n",
        "\n",
        "        # compute the width and height of the bounding box\n",
        "        w = np.maximum(0, xx2 - xx1 + 1)\n",
        "        h = np.maximum(0, yy2 - yy1 + 1)\n",
        "\n",
        "        # compute the ratio of overlap\n",
        "        overlap = (w * h) / area[idxs[:last]]\n",
        "\n",
        "        overlap_idx = np.where(overlap > overlapThresh)[0].tolist()[::-1]\n",
        "\n",
        "        if len(overlap_idx) == 0:\n",
        "            if scores[i] >= solo_min:\n",
        "                pick.append(i)\n",
        "        else:\n",
        "            pick.append(i)\n",
        "            for j in overlap_idx:\n",
        "                boxes[i, :] = wt_av(boxes[i, :], scores[i],\n",
        "                                    boxes[idxs[j], :], scores[idxs[j]])\n",
        "                scores[i] = scores[i]+scores[idxs[j]]\n",
        "\n",
        "        # delete all indexes from the index list that have\n",
        "        idxs = np.delete(idxs, np.concatenate(([last],\n",
        "                                               np.where(overlap > overlapThresh)[0])))\n",
        "\n",
        "    # return only the bounding boxes that were picked using the\n",
        "    # integer data type\n",
        "    if len(pick) > 0:\n",
        "        return boxes[pick], scores[pick]\n",
        "    else:\n",
        "        return np.array([]).reshape(0, 4), np.array([])\n",
        "\n",
        "\n",
        "def intersects(boxes, scores, overlapThresh, solo_min=0, shrink=0):\n",
        "    \"\"\" Like weighted averages, but take intersections of overlapping bounding boxes \"\"\"\n",
        "\n",
        "    # if there are no boxes, return an empty list\n",
        "    if len(boxes) == 0:\n",
        "        return np.array([]).reshape(0, 4), np.array([])\n",
        "    if boxes.dtype.kind == \"i\":\n",
        "        boxes = boxes.astype(\"float\")\n",
        "\n",
        "    pick = []\n",
        "    x1 = boxes[:, 0]\n",
        "    y1 = boxes[:, 1]\n",
        "    x2 = boxes[:, 2]\n",
        "    y2 = boxes[:, 3]\n",
        "\n",
        "    # compute the area of the bounding boxes\n",
        "    area = (x2 - x1 + 1) * (y2 - y1 + 1)\n",
        "\n",
        "    # sort the bounding boxes by scores in ascending order\n",
        "    idxs = np.argsort(scores)\n",
        "\n",
        "    # keep looping while indexes still remain in the indexes list\n",
        "    while len(idxs) > 0:\n",
        "        # grab the last index in the indexes list and add the\n",
        "        # index value to the list of picked indexes\n",
        "        last = len(idxs) - 1\n",
        "        i = idxs[last]\n",
        "\n",
        "        # find the largest (x, y) coordinates for the start of\n",
        "        # the bounding box and the smallest (x, y) coordinates\n",
        "        # for the end of the bounding box\n",
        "        xx1 = np.maximum(x1[i], x1[idxs[:last]])\n",
        "        yy1 = np.maximum(y1[i], y1[idxs[:last]])\n",
        "        xx2 = np.minimum(x2[i], x2[idxs[:last]])\n",
        "        yy2 = np.minimum(y2[i], y2[idxs[:last]])\n",
        "\n",
        "        # compute the width and height of the bounding box\n",
        "        w = np.maximum(0, xx2 - xx1 + 1)\n",
        "        h = np.maximum(0, yy2 - yy1 + 1)\n",
        "\n",
        "        # compute the ratio of overlap\n",
        "        overlap = (w * h) / area[idxs[:last]]\n",
        "\n",
        "        overlap_idx = np.where(overlap > overlapThresh)[0].tolist()[::-1]\n",
        "\n",
        "        if len(overlap_idx) == 0:\n",
        "            if scores[i] >= solo_min:\n",
        "                pick.append(i)\n",
        "\n",
        "                shrink_factor = shrink/2\n",
        "                (bx1, by1, bx2, by2) = boxes[i, :]\n",
        "                diffx = bx2-bx1\n",
        "                diffy = by2-by1\n",
        "                boxes[i, 0] += shrink_factor*diffx\n",
        "                boxes[i, 1] -= shrink_factor*diffx\n",
        "                boxes[i, 2] += shrink_factor*diffy\n",
        "                boxes[i, 3] -= shrink_factor*diffy\n",
        "        else:\n",
        "            pick.append(i)\n",
        "            for j in overlap_idx:\n",
        "                boxes[i, :] = (xx1[j], yy1[j], xx2[j], yy2[j])\n",
        "                scores[i] = scores[i]+scores[idxs[j]]\n",
        "\n",
        "        # delete all indexes from the index list that have\n",
        "        idxs = np.delete(idxs, np.concatenate(([last],\n",
        "                                               np.where(overlap > overlapThresh)[0])))\n",
        "\n",
        "    # return only the bounding boxes that were picked using the\n",
        "    # integer data type\n",
        "    if len(pick) > 0:\n",
        "        return boxes[pick], scores[pick]\n",
        "    else:\n",
        "        return np.array([]).reshape(0, 4), np.array([])\n",
        "\n",
        "\n",
        "def shrink(bb, shrink_factor):\n",
        "    \"\"\" Shrinks bounding boxes by a factor in each dimension \"\"\"\n",
        "    if len(bb) > 0:\n",
        "        x1 = bb[:, 0]\n",
        "        y1 = bb[:, 1]\n",
        "        x2 = bb[:, 2]\n",
        "        y2 = bb[:, 3]\n",
        "        diffx = x2-x1\n",
        "        diffy = y2-y1\n",
        "        shrink_factor /= 2\n",
        "        x1 += shrink_factor*diffx\n",
        "        x2 -= shrink_factor*diffx\n",
        "        y1 += shrink_factor*diffy\n",
        "        y2 -= shrink_factor*diffy\n",
        "\n",
        "\n",
        "def overlay_box(im, boxx, rgb, stroke):\n",
        "    \"\"\"\n",
        "    Method to overlay single box on image\n",
        "\n",
        "    \"\"\"\n",
        "    # --- Convert coordinates to integers\n",
        "    for box in boxx:\n",
        "        box = [int(b) for b in box]\n",
        "        \n",
        "        # --- Extract coordinates\n",
        "        x1, y1, width, height, = box\n",
        "        y2 = y1 + height\n",
        "        x2 = x1 + width\n",
        "\n",
        "        im[y1:y1 + stroke, x1:x2] = rgb\n",
        "        im[y2:y2 + stroke, x1:x2] = rgb\n",
        "        im[y1:y2, x1:x1 + stroke] = rgb\n",
        "        im[y1:y2, x2:x2 + stroke] = rgb\n",
        "\n",
        "    return im\n",
        "\n",
        "def draw(im,boxx,path):\n",
        "    \"\"\"\n",
        "    Method to draw single patient with bounding box(es) if present \n",
        "\n",
        "    \"\"\"\n",
        "    # --- Open DICOM file\n",
        "    #d = pydicom.read_file(data['dicom'])\n",
        "    #im = d.pixel_arraymlcour\n",
        "\n",
        "    # --- Convert from single-channel grayscale to 3-channel RGB\n",
        "    #im = np.stack([im] * 3, axis=2)\n",
        "\n",
        "    # --- Add boxes with random color if present\n",
        "\n",
        "    \n",
        "\n",
        "    rgb = np.floor(np.random.rand(3) * 256).astype('int')\n",
        "    im = overlay_box(im=im, boxx=boxx, rgb=rgb, stroke=10)\n",
        "    im = Image.fromarray(im)\n",
        "\n",
        "    #changing image saving path for colab environment\n",
        "    #im.save('./images/'+\"checked_\"+path)\n",
        "    im.save('/content/images/'+\"checked_\"+path)\n",
        "\n",
        "    #return im.shape"
      ],
      "execution_count": 26,
      "outputs": []
    },
    {
      "cell_type": "code",
      "metadata": {
        "id": "__574F_fa2Wu",
        "colab_type": "code",
        "colab": {}
      },
      "source": [
        "with open('/content/drive/My Drive/Pneumonia/rsna-pneumonia/settings.json') as json_data_file:\n",
        "    json_data = json.load(json_data_file)"
      ],
      "execution_count": 27,
      "outputs": []
    },
    {
      "cell_type": "code",
      "metadata": {
        "id": "MRsL_58Ra2Wz",
        "colab_type": "code",
        "colab": {}
      },
      "source": [
        "model1_path = json_data[\"MODEL_50\"]\n",
        "#join for colab \n",
        "model1_path = os.path.join('/content/drive/My Drive/Pneumonia/rsna-pneumonia/',model1_path )\n",
        "model1 = models.load_model(model1_path, backbone_name='resnet50', convert=True, nms=False)"
      ],
      "execution_count": 28,
      "outputs": []
    },
    {
      "cell_type": "code",
      "metadata": {
        "id": "-lbX36Wja2W4",
        "colab_type": "code",
        "colab": {}
      },
      "source": [
        "model2_path = json_data[\"MODEL_101\"]\n",
        "#join for colab \n",
        "model2_path = os.path.join('/content/drive/My Drive/Pneumonia/rsna-pneumonia/',model2_path )\n",
        "model2 = models.load_model(model2_path, backbone_name='resnet101', convert=True, nms=False)"
      ],
      "execution_count": 29,
      "outputs": []
    },
    {
      "cell_type": "code",
      "metadata": {
        "id": "MAduScgEa2W8",
        "colab_type": "code",
        "colab": {}
      },
      "source": [
        "sz = 224\n",
        "\n",
        "# threshold for non-max-suppresion for each model\n",
        "nms_threshold = 0\n",
        "\n",
        "# shrink bounding box dimensions by this factor, improves test set performance\n",
        "shrink_factor = 0.17\n",
        "\n",
        "# threshold for judging overlap of bounding boxes between different networks (for weighted average)\n",
        "wt_overlap = 0\n",
        "\n",
        "# threshold for including boxes from model 1\n",
        "#score_threshold1 = 0.04\n",
        "score_threshold1 = 0\n",
        "\n",
        "# threshold for including boxes from model 2\n",
        "#score_threshold2 = 0.05\n",
        "score_threshold2 = 0\n",
        "\n",
        "# threshold for including isolated boxes from either model\n",
        "solo_min = 0.15"
      ],
      "execution_count": 30,
      "outputs": []
    },
    {
      "cell_type": "code",
      "metadata": {
        "id": "m2zvjsNca2W_",
        "colab_type": "code",
        "colab": {}
      },
      "source": [
        "import time\n",
        "import cv2\n",
        "import os"
      ],
      "execution_count": 31,
      "outputs": []
    },
    {
      "cell_type": "code",
      "metadata": {
        "id": "5bS_53ShcHmT",
        "colab_type": "code",
        "colab": {}
      },
      "source": [
        "%cd /content"
      ],
      "execution_count": null,
      "outputs": []
    },
    {
      "cell_type": "code",
      "metadata": {
        "id": "Pu8LmfSVdf2e",
        "colab_type": "code",
        "colab": {}
      },
      "source": [
        "#create folder to store images\n",
        "%mkdir images"
      ],
      "execution_count": null,
      "outputs": []
    },
    {
      "cell_type": "code",
      "metadata": {
        "id": "8wFASo36a2XF",
        "colab_type": "code",
        "colab": {}
      },
      "source": [
        "file_path=[]\n",
        "score_list1=[]\n",
        "score_list2=[]\n",
        "\n",
        "d = \"/content/drive/My Drive/Pneumonia/rsna-pneumonia/data/DR - (start from 1)/test/\"\n",
        "for path in os.listdir(d):\n",
        "    full_path = os.path.join(d, path)\n",
        "    if os.path.isfile(full_path):\n",
        "        file_path.append(path)\n",
        "        #fid = fname[:-4]\n",
        "        start = time.time()\n",
        "        fpath = d+path\n",
        "\n",
        "        boxes_pred1, scores1 = get_detection_from_file(fpath, model1, sz)\n",
        "        boxes_pred2, scores2 = get_detection_from_file(fpath, model2, sz)\n",
        "\n",
        "\n",
        "        indices1 = np.where(scores1 > score_threshold1)[0]\n",
        "        scores1 = scores1[indices1]\n",
        "        boxes_pred1 = boxes_pred1[indices1]\n",
        "        boxes_pred1, scores1 = nms(boxes_pred1, scores1, nms_threshold)\n",
        "\n",
        "        indices2 = np.where(scores2 > score_threshold2)[0]\n",
        "        scores2 = scores2[indices2]\n",
        "        boxes_pred2 = boxes_pred2[indices2]\n",
        "        boxes_pred2, scores2 = nms(boxes_pred2, scores2, nms_threshold)\n",
        "\n",
        "       \n",
        "        \n",
        "        #boxes_pred = np.concatenate((boxes_pred1, boxes_pred2))\n",
        "        #scores = np.concatenate((scores1, scores2))\n",
        "\n",
        "        #boxes_pred, scores = averages(\n",
        "        #boxes_pred, scores, wt_overlap, solo_min)\n",
        "        #shrink(boxes_pred, shrink_factor)\n",
        "        \n",
        "        score_list1.append(scores1)\n",
        "        score_list2.append(scores2)\n",
        "        \n",
        "        boxx = []\n",
        "        #print(boxes_pred,scores)\n",
        "\n",
        "        for i, bb in enumerate(boxes_pred1):\n",
        "            x1 = int(bb[0])\n",
        "            y1 = int(bb[1])\n",
        "            w = int(bb[2]-x1+1)\n",
        "            h = int(bb[3]-y1+1)\n",
        "\n",
        "            boxx.append([x1,y1,w,h])\n",
        "\n",
        "        im = cv2.imread(fpath)\n",
        "        draw(im,boxx,path)"
      ],
      "execution_count": 34,
      "outputs": []
    },
    {
      "cell_type": "code",
      "metadata": {
        "id": "gz-9WOk5a2XK",
        "colab_type": "code",
        "colab": {
          "base_uri": "https://localhost:8080/",
          "height": 35
        },
        "outputId": "14f81ea6-e9de-4a1e-a089-ee8268976b0f"
      },
      "source": [
        "print(len(score_list1))"
      ],
      "execution_count": 53,
      "outputs": [
        {
          "output_type": "stream",
          "text": [
            "139\n"
          ],
          "name": "stdout"
        }
      ]
    },
    {
      "cell_type": "code",
      "metadata": {
        "id": "s0B0DP1qwPPT",
        "colab_type": "code",
        "colab": {
          "base_uri": "https://localhost:8080/",
          "height": 1000
        },
        "outputId": "f4e1b4e7-c54f-45fe-c8db-d24dbccbdfb7"
      },
      "source": [
        "score_list1"
      ],
      "execution_count": 36,
      "outputs": [
        {
          "output_type": "execute_result",
          "data": {
            "text/plain": [
              "[array([0.10410278, 0.06090033], dtype=float32),\n",
              " array([0.0299483 , 0.0226928 , 0.01229613, 0.0105649 ], dtype=float32),\n",
              " array([0.0299483 , 0.0226928 , 0.01229613, 0.0105649 ], dtype=float32),\n",
              " array([0.02862005, 0.01522645], dtype=float32),\n",
              " array([0.01870739, 0.0161933 ], dtype=float32),\n",
              " array([0.01487373, 0.01048843], dtype=float32),\n",
              " array([0.01333525], dtype=float32),\n",
              " array([0.03437753, 0.01920482, 0.01164582], dtype=float32),\n",
              " array([0.03397455, 0.03166102, 0.02188532], dtype=float32),\n",
              " array([0.01571011, 0.01487469], dtype=float32),\n",
              " array([0.0272428 , 0.01755023], dtype=float32),\n",
              " array([0.04546651, 0.02148053, 0.01129013], dtype=float32),\n",
              " array([0.04007575, 0.02364794], dtype=float32),\n",
              " array([0.04339988, 0.02270057], dtype=float32),\n",
              " array([0.02856571, 0.01735566], dtype=float32),\n",
              " array([0.0771649 , 0.01792514, 0.01691331], dtype=float32),\n",
              " array([0.02970536, 0.01338685], dtype=float32),\n",
              " array([0.11501857, 0.06161056, 0.04650594], dtype=float32),\n",
              " array([0.01999639, 0.01779638], dtype=float32),\n",
              " array([0.02277424], dtype=float32),\n",
              " array([0.0120474], dtype=float32),\n",
              " array([0.02976597, 0.01906818], dtype=float32),\n",
              " array([0.03589671, 0.01611226], dtype=float32),\n",
              " array([0.02302517, 0.01184235], dtype=float32),\n",
              " array([0.28052664, 0.14016144], dtype=float32),\n",
              " array([0.0624423 , 0.02644938], dtype=float32),\n",
              " array([0.08430061, 0.03891151], dtype=float32),\n",
              " array([0.13581866, 0.02880229, 0.02295561], dtype=float32),\n",
              " array([0.01152266], dtype=float32),\n",
              " array([0.01259719], dtype=float32),\n",
              " array([0.02472608, 0.01553128], dtype=float32),\n",
              " array([0.01262047], dtype=float32),\n",
              " array([0.13214949, 0.1299764 ], dtype=float32),\n",
              " array([0.03572746, 0.02811534], dtype=float32),\n",
              " array([0.03425995, 0.0236815 ], dtype=float32),\n",
              " array([0.0343371 , 0.01163106], dtype=float32),\n",
              " array([0.01308697], dtype=float32),\n",
              " array([0.06538502, 0.01831326], dtype=float32),\n",
              " array([0.0210053, 0.0180314, 0.0106857], dtype=float32),\n",
              " array([0.04802612, 0.03814717], dtype=float32),\n",
              " array([0.02570925, 0.01271806, 0.01172646], dtype=float32),\n",
              " array([0.03173676, 0.02643801, 0.01505187, 0.01282816], dtype=float32),\n",
              " array([0.02019148, 0.01932815], dtype=float32),\n",
              " array([0.3279679 , 0.03884977], dtype=float32),\n",
              " array([0.04326658, 0.04166162, 0.01895708], dtype=float32),\n",
              " array([0.15083675, 0.07014615], dtype=float32),\n",
              " array([0.06945602, 0.0497244 ], dtype=float32),\n",
              " array([0.02675395, 0.02385536], dtype=float32),\n",
              " array([0.01189672], dtype=float32),\n",
              " array([0.04476849, 0.04380097, 0.01969242], dtype=float32),\n",
              " array([0.01234234], dtype=float32),\n",
              " array([0.02720962, 0.01704363], dtype=float32),\n",
              " array([0.02206465, 0.01793656, 0.01170953], dtype=float32),\n",
              " array([0.04648144, 0.03360939], dtype=float32),\n",
              " array([0.01267168], dtype=float32),\n",
              " array([0.0359267 , 0.02526328], dtype=float32),\n",
              " array([0.05773539, 0.04781168], dtype=float32),\n",
              " array([0.01279607, 0.01002992], dtype=float32),\n",
              " array([0.04050647, 0.03224883], dtype=float32),\n",
              " array([0.03540845], dtype=float32),\n",
              " array([0.06723159, 0.03700228], dtype=float32),\n",
              " array([0.01853184, 0.01451668], dtype=float32),\n",
              " array([0.01957837], dtype=float32),\n",
              " array([0.03899356, 0.02838488], dtype=float32),\n",
              " array([0.01141633, 0.01056041], dtype=float32),\n",
              " array([0.013544 , 0.0133288], dtype=float32),\n",
              " array([0.01613495, 0.01383414], dtype=float32),\n",
              " array([0.01605071], dtype=float32),\n",
              " array([0.01126788], dtype=float32),\n",
              " array([0.02189788, 0.01443608], dtype=float32),\n",
              " array([0.03123398, 0.0168378 ], dtype=float32),\n",
              " array([0.01311185, 0.0130536 ], dtype=float32),\n",
              " array([0.02400991, 0.02322292], dtype=float32),\n",
              " array([0.0389296 , 0.03537144, 0.01507082], dtype=float32),\n",
              " array([0.01584785], dtype=float32),\n",
              " array([0.01400272, 0.01052422], dtype=float32),\n",
              " array([0.02902626, 0.02072867, 0.0182638 ], dtype=float32),\n",
              " array([0.03095593, 0.02166997, 0.01215805], dtype=float32),\n",
              " array([0.0305265 , 0.01690329], dtype=float32),\n",
              " array([0.02619798, 0.01727612], dtype=float32),\n",
              " array([0.0227178, 0.0181961], dtype=float32),\n",
              " array([0.02409894], dtype=float32),\n",
              " array([0.03571366, 0.03036927], dtype=float32),\n",
              " array([0.01838223, 0.01747429], dtype=float32),\n",
              " array([0.0224826 , 0.01711979, 0.01647298], dtype=float32),\n",
              " array([0.03449433, 0.02773813], dtype=float32),\n",
              " array([0.07122834, 0.02440058], dtype=float32),\n",
              " array([0.04483577, 0.01299859], dtype=float32),\n",
              " array([0.04158574, 0.03362336, 0.01852211], dtype=float32),\n",
              " array([0.04054807, 0.03643332], dtype=float32),\n",
              " array([0.10507079, 0.0745466 ], dtype=float32),\n",
              " array([0.03327173, 0.02330154, 0.01612015], dtype=float32),\n",
              " array([0.01342227], dtype=float32),\n",
              " array([0.02759179, 0.02312751], dtype=float32),\n",
              " array([0.04943246, 0.02163291], dtype=float32),\n",
              " array([0.02060064], dtype=float32),\n",
              " array([0.0129398], dtype=float32),\n",
              " array([0.021626 , 0.0173551], dtype=float32),\n",
              " array([0.03035506, 0.02264902], dtype=float32),\n",
              " array([0.05589151, 0.05253375], dtype=float32),\n",
              " array([0.03255641, 0.01621654], dtype=float32),\n",
              " array([0.01496995, 0.01479842, 0.01317491, 0.01240199], dtype=float32),\n",
              " array([0.02408266, 0.01389413, 0.01151583], dtype=float32),\n",
              " array([0.01148863], dtype=float32),\n",
              " array([0.09891544, 0.02499205], dtype=float32),\n",
              " array([0.01873304, 0.01688448], dtype=float32),\n",
              " array([0.01343356], dtype=float32),\n",
              " array([0.10858184, 0.01893959], dtype=float32),\n",
              " array([0.01146914], dtype=float32),\n",
              " array([0.05131363, 0.03560229], dtype=float32),\n",
              " array([0.02371332, 0.02205957], dtype=float32),\n",
              " array([0.02279506, 0.0146053 , 0.01158656], dtype=float32),\n",
              " array([0.02123265, 0.016115  , 0.01065661], dtype=float32),\n",
              " array([0.02671019, 0.02296755, 0.01393036], dtype=float32),\n",
              " array([0.03249119, 0.02367167], dtype=float32),\n",
              " array([0.01870041, 0.01462583, 0.01012833], dtype=float32),\n",
              " array([0.04511826, 0.0442538 ], dtype=float32),\n",
              " array([0.06229378, 0.06033183], dtype=float32),\n",
              " array([0.03377766, 0.02168624, 0.01091755], dtype=float32),\n",
              " array([0.01434722, 0.01176011, 0.01066051], dtype=float32),\n",
              " array([0.06023845, 0.01921747, 0.01436724], dtype=float32),\n",
              " array([0.0233125 , 0.02071669, 0.01367492], dtype=float32),\n",
              " array([0.01807668, 0.01742711], dtype=float32),\n",
              " array([0.09592748, 0.03388903], dtype=float32),\n",
              " array([0.06444038, 0.04550662], dtype=float32),\n",
              " array([0.04535438, 0.0298366 ], dtype=float32),\n",
              " array([0.02276822, 0.02255418], dtype=float32),\n",
              " array([0.03167735, 0.02659847, 0.01477077], dtype=float32),\n",
              " array([0.02836889], dtype=float32),\n",
              " array([0.03541861, 0.02099819], dtype=float32),\n",
              " array([0.01813819, 0.01120183], dtype=float32),\n",
              " array([0.01382416, 0.01047604], dtype=float32),\n",
              " array([0.02147741, 0.01872086, 0.01002691], dtype=float32),\n",
              " array([0.02803339, 0.01622462, 0.01558292, 0.01305247], dtype=float32),\n",
              " array([0.02380693, 0.01558477], dtype=float32),\n",
              " array([0.03101365, 0.02534084, 0.01182753], dtype=float32),\n",
              " array([0.02077691, 0.01790001, 0.01378011], dtype=float32),\n",
              " array([0.02607761, 0.02257344, 0.02066863, 0.01223147], dtype=float32),\n",
              " array([0.0236244 , 0.01044619], dtype=float32)]"
            ]
          },
          "metadata": {
            "tags": []
          },
          "execution_count": 36
        }
      ]
    },
    {
      "cell_type": "code",
      "metadata": {
        "id": "qMRdo0Xg4GhY",
        "colab_type": "code",
        "colab": {}
      },
      "source": [
        "score_list1  =[arr*100 for arr in score_list1 ]\n"
      ],
      "execution_count": 38,
      "outputs": []
    },
    {
      "cell_type": "code",
      "metadata": {
        "id": "P0ghI_O4TYyo",
        "colab_type": "code",
        "colab": {}
      },
      "source": [
        "score_list2  =[arr*100 for arr in score_list2 ]"
      ],
      "execution_count": 39,
      "outputs": []
    },
    {
      "cell_type": "code",
      "metadata": {
        "id": "EbegpSdHa2XO",
        "colab_type": "code",
        "colab": {}
      },
      "source": [
        "data = {'col_1': file_path, 'col_2': score_list1}\n",
        "df=pd.DataFrame.from_dict(data)"
      ],
      "execution_count": 40,
      "outputs": []
    },
    {
      "cell_type": "code",
      "metadata": {
        "id": "GqRxb_eMa2XT",
        "colab_type": "code",
        "colab": {}
      },
      "source": [
        "df.to_csv('out_model50.csv')"
      ],
      "execution_count": 41,
      "outputs": []
    },
    {
      "cell_type": "code",
      "metadata": {
        "id": "eCESU13QrKSQ",
        "colab_type": "code",
        "colab": {}
      },
      "source": [
        "data2 = {'col_1': file_path, 'col_2': score_list2}\n",
        "df2=pd.DataFrame.from_dict(data2)"
      ],
      "execution_count": 42,
      "outputs": []
    },
    {
      "cell_type": "code",
      "metadata": {
        "id": "kMHE8MCsrKgV",
        "colab_type": "code",
        "colab": {}
      },
      "source": [
        "df2.to_csv('out_model101.csv')"
      ],
      "execution_count": 43,
      "outputs": []
    },
    {
      "cell_type": "code",
      "metadata": {
        "id": "RIiA3HHmrIwo",
        "colab_type": "code",
        "colab": {
          "base_uri": "https://localhost:8080/",
          "height": 206
        },
        "outputId": "369d5c74-6dce-409a-8eae-d5d74e30295c"
      },
      "source": [
        "df.head() #model 50"
      ],
      "execution_count": 45,
      "outputs": [
        {
          "output_type": "execute_result",
          "data": {
            "text/html": [
              "<div>\n",
              "<style scoped>\n",
              "    .dataframe tbody tr th:only-of-type {\n",
              "        vertical-align: middle;\n",
              "    }\n",
              "\n",
              "    .dataframe tbody tr th {\n",
              "        vertical-align: top;\n",
              "    }\n",
              "\n",
              "    .dataframe thead th {\n",
              "        text-align: right;\n",
              "    }\n",
              "</style>\n",
              "<table border=\"1\" class=\"dataframe\">\n",
              "  <thead>\n",
              "    <tr style=\"text-align: right;\">\n",
              "      <th></th>\n",
              "      <th>col_1</th>\n",
              "      <th>col_2</th>\n",
              "    </tr>\n",
              "  </thead>\n",
              "  <tbody>\n",
              "    <tr>\n",
              "      <th>0</th>\n",
              "      <td>138.jpg</td>\n",
              "      <td>[10.410278, 6.0900335]</td>\n",
              "    </tr>\n",
              "    <tr>\n",
              "      <th>1</th>\n",
              "      <td>137.jpg</td>\n",
              "      <td>[2.9948304, 2.2692802, 1.2296134, 1.05649]</td>\n",
              "    </tr>\n",
              "    <tr>\n",
              "      <th>2</th>\n",
              "      <td>139.jpg</td>\n",
              "      <td>[2.9948304, 2.2692802, 1.2296134, 1.05649]</td>\n",
              "    </tr>\n",
              "    <tr>\n",
              "      <th>3</th>\n",
              "      <td>124.jpg</td>\n",
              "      <td>[2.8620048, 1.5226455]</td>\n",
              "    </tr>\n",
              "    <tr>\n",
              "      <th>4</th>\n",
              "      <td>125.jpg</td>\n",
              "      <td>[1.8707392, 1.6193304]</td>\n",
              "    </tr>\n",
              "  </tbody>\n",
              "</table>\n",
              "</div>"
            ],
            "text/plain": [
              "     col_1                                       col_2\n",
              "0  138.jpg                      [10.410278, 6.0900335]\n",
              "1  137.jpg  [2.9948304, 2.2692802, 1.2296134, 1.05649]\n",
              "2  139.jpg  [2.9948304, 2.2692802, 1.2296134, 1.05649]\n",
              "3  124.jpg                      [2.8620048, 1.5226455]\n",
              "4  125.jpg                      [1.8707392, 1.6193304]"
            ]
          },
          "metadata": {
            "tags": []
          },
          "execution_count": 45
        }
      ]
    },
    {
      "cell_type": "code",
      "metadata": {
        "id": "jeM6tHV5P5EL",
        "colab_type": "code",
        "colab": {
          "base_uri": "https://localhost:8080/",
          "height": 206
        },
        "outputId": "2badb634-10e5-4763-edb7-e3ce28e26366"
      },
      "source": [
        "df2.head() #model 101"
      ],
      "execution_count": 46,
      "outputs": [
        {
          "output_type": "execute_result",
          "data": {
            "text/html": [
              "<div>\n",
              "<style scoped>\n",
              "    .dataframe tbody tr th:only-of-type {\n",
              "        vertical-align: middle;\n",
              "    }\n",
              "\n",
              "    .dataframe tbody tr th {\n",
              "        vertical-align: top;\n",
              "    }\n",
              "\n",
              "    .dataframe thead th {\n",
              "        text-align: right;\n",
              "    }\n",
              "</style>\n",
              "<table border=\"1\" class=\"dataframe\">\n",
              "  <thead>\n",
              "    <tr style=\"text-align: right;\">\n",
              "      <th></th>\n",
              "      <th>col_1</th>\n",
              "      <th>col_2</th>\n",
              "    </tr>\n",
              "  </thead>\n",
              "  <tbody>\n",
              "    <tr>\n",
              "      <th>0</th>\n",
              "      <td>138.jpg</td>\n",
              "      <td>[34.510166, 8.1106615]</td>\n",
              "    </tr>\n",
              "    <tr>\n",
              "      <th>1</th>\n",
              "      <td>137.jpg</td>\n",
              "      <td>[2.2904127, 2.2520986]</td>\n",
              "    </tr>\n",
              "    <tr>\n",
              "      <th>2</th>\n",
              "      <td>139.jpg</td>\n",
              "      <td>[2.2904127, 2.2520986]</td>\n",
              "    </tr>\n",
              "    <tr>\n",
              "      <th>3</th>\n",
              "      <td>124.jpg</td>\n",
              "      <td>[1.5367094, 1.455235]</td>\n",
              "    </tr>\n",
              "    <tr>\n",
              "      <th>4</th>\n",
              "      <td>125.jpg</td>\n",
              "      <td>[1.1716628]</td>\n",
              "    </tr>\n",
              "  </tbody>\n",
              "</table>\n",
              "</div>"
            ],
            "text/plain": [
              "     col_1                   col_2\n",
              "0  138.jpg  [34.510166, 8.1106615]\n",
              "1  137.jpg  [2.2904127, 2.2520986]\n",
              "2  139.jpg  [2.2904127, 2.2520986]\n",
              "3  124.jpg   [1.5367094, 1.455235]\n",
              "4  125.jpg             [1.1716628]"
            ]
          },
          "metadata": {
            "tags": []
          },
          "execution_count": 46
        }
      ]
    },
    {
      "cell_type": "code",
      "metadata": {
        "id": "Qky1ZHwla2X3",
        "colab_type": "code",
        "colab": {
          "base_uri": "https://localhost:8080/",
          "height": 287
        },
        "outputId": "0a247e47-ebb1-40e4-b732-e3ef23a93ad5"
      },
      "source": [
        "im = plt.imread('/content/images/checked_4.jpg')\n",
        "plt.imshow(im)"
      ],
      "execution_count": 52,
      "outputs": [
        {
          "output_type": "execute_result",
          "data": {
            "text/plain": [
              "<matplotlib.image.AxesImage at 0x7f78ea38cf60>"
            ]
          },
          "metadata": {
            "tags": []
          },
          "execution_count": 52
        },
        {
          "output_type": "display_data",
          "data": {
            "image/png": "[encoded data removed]",
            "text/plain": [
              "<Figure size 432x288 with 1 Axes>"
            ]
          },
          "metadata": {
            "tags": [],
            "needs_background": "light"
          }
        }
      ]
    }
  ]
}